{
 "cells": [
  {
   "cell_type": "code",
   "execution_count": 1,
   "metadata": {},
   "outputs": [],
   "source": [
    "import numpy as np\n",
    "\n",
    "import adaptoctree.morton as morton\n",
    "import adaptoctree.tree as tree\n",
    "import adaptoctree.plotting as plotting"
   ]
  },
  {
   "cell_type": "code",
   "execution_count": 2,
   "metadata": {},
   "outputs": [],
   "source": [
    "N = int(1000)\n",
    "particles = plotting.make_moon(N)\n",
    "# particles = np.random.rand(N, 3)\n",
    "\n",
    "max_level = 16\n",
    "max_num_particles = 50\n",
    "\n",
    "\n",
    "max_bound, min_bound = morton.find_bounds(particles)\n",
    "x0 = morton.find_center(max_bound, min_bound)\n",
    "r0 = morton.find_radius(x0, max_bound, min_bound)"
   ]
  },
  {
   "cell_type": "code",
   "execution_count": 3,
   "metadata": {},
   "outputs": [
    {
     "data": {
      "text/plain": [
       "array([       1,    65537,   163841,   229377,  3735555,  3768323,\n",
       "        3866627,  3899395,  3997699,  4128771,  4161539,  7340035,\n",
       "        7372803,  7471107,  7503875,  7602179,  7733251,  7766019,\n",
       "        8978435,  9011203,  9109507,  9142275,  9240579,  9273347,\n",
       "        9371651, 12582915, 12615683, 12713987, 12746755, 12845059,\n",
       "       12877827, 12976131])"
      ]
     },
     "execution_count": 3,
     "metadata": {},
     "output_type": "execute_result"
    }
   ],
   "source": [
    "unbalanced = tree.build(particles, max_level, max_num_particles)\n",
    "unbalanced = np.unique(unbalanced)\n",
    "depth = max(morton.find_level(unbalanced))\n",
    "unbalanced"
   ]
  },
  {
   "cell_type": "code",
   "execution_count": 4,
   "metadata": {
    "scrolled": false
   },
   "outputs": [
    {
     "data": {
      "text/plain": [
       "206"
      ]
     },
     "execution_count": 4,
     "metadata": {},
     "output_type": "execute_result"
    }
   ],
   "source": [
    "balanced = tree.balance(unbalanced, depth)\n",
    "len(balanced)\n",
    "# balanced = np.array(balanced)\n",
    "# balanced.sort()\n",
    "# balanced"
   ]
  },
  {
   "cell_type": "code",
   "execution_count": 5,
   "metadata": {},
   "outputs": [],
   "source": [
    "def assign_points_to_keys(points, tree, x0, r0):\n",
    "    \"\"\"\n",
    "    Assign particle positions to Morton keys in a given tree.\n",
    "    Parameters:\n",
    "    -----------\n",
    "    points : np.array(shape=(N, 3), dtype=np.float32)\n",
    "    tree : Octree\n",
    "    Returns:\n",
    "    --------\n",
    "    np.array(shape=(N,), dtype=np.int64)\n",
    "        Column vector specifying the Morton key of the node that each point is\n",
    "        associated with.\n",
    "    \"\"\"\n",
    "    # Map Morton key to bounds that they represent.\n",
    "    n_points = points.shape[0]\n",
    "    n_keys = len(tree)\n",
    "    leaves = np.zeros(n_points, dtype=np.int64)\n",
    "\n",
    "    # Loop over points, and assign to a node from the tree by examining the bounds\n",
    "    for i, point in enumerate(points):\n",
    "        for key in tree:\n",
    "            lower_bound, upper_bound = morton.find_node_bounds(key, x0, r0)\n",
    "            if (np.all(lower_bound <= point)) and (np.all(point < upper_bound )):\n",
    "                leaves[i] = key        \n",
    "\n",
    "    return leaves"
   ]
  },
  {
   "cell_type": "code",
   "execution_count": 6,
   "metadata": {},
   "outputs": [],
   "source": [
    "balanced_leaves = assign_points_to_keys(particles, balanced, x0, r0)"
   ]
  },
  {
   "cell_type": "code",
   "execution_count": 7,
   "metadata": {},
   "outputs": [],
   "source": [
    "# Test num particles constraint\n",
    "\n",
    "_, counts = np.unique(balanced_leaves, return_counts=True)\n",
    "assert np.all(counts) < max_num_particles"
   ]
  },
  {
   "cell_type": "code",
   "execution_count": 8,
   "metadata": {},
   "outputs": [],
   "source": [
    "def are_neighbours(a, b, x0, r0):\n",
    "    \n",
    "    if a in morton.find_ancestors(b):\n",
    "        return False\n",
    "    if b in morton.find_ancestors(a):\n",
    "        return False\n",
    "    \n",
    "    level_a = morton.find_level(a)\n",
    "    radius_a = r0 / (1 << level_a)\n",
    "    \n",
    "    level_b = morton.find_level(b)\n",
    "    radius_b = r0 / (1 << level_b)\n",
    "    \n",
    "    centre_a = morton.find_center_from_key(a, x0, r0)\n",
    "    centre_b = morton.find_center_from_key(b, x0, r0)\n",
    "    \n",
    "    if np.linalg.norm(centre_a - centre_b) <= np.sqrt(3) * (radius_b + radius_a):\n",
    "        return True\n",
    "    return False"
   ]
  },
  {
   "cell_type": "code",
   "execution_count": 9,
   "metadata": {
    "scrolled": true
   },
   "outputs": [],
   "source": [
    "# Check for balancing condition\n",
    "\n",
    "for i in balanced:\n",
    "    for j in balanced:\n",
    "        if (i != j) and are_neighbours(i, j, x0, r0):\n",
    "            diff = morton.find_level(i) - morton.find_level(j)\n",
    "            assert diff <= 1"
   ]
  },
  {
   "cell_type": "code",
   "execution_count": 10,
   "metadata": {
    "scrolled": true
   },
   "outputs": [],
   "source": [
    "# Check for overlaps\n",
    "\n",
    "for i, ki in enumerate(balanced):\n",
    "    for j, kj in enumerate(balanced):\n",
    "        if j != i:\n",
    "            assert ki not in morton.find_ancestors(kj)            "
   ]
  },
  {
   "cell_type": "code",
   "execution_count": null,
   "metadata": {},
   "outputs": [],
   "source": []
  }
 ],
 "metadata": {
  "kernelspec": {
   "display_name": "Python 3",
   "language": "python",
   "name": "python3"
  },
  "language_info": {
   "codemirror_mode": {
    "name": "ipython",
    "version": 3
   },
   "file_extension": ".py",
   "mimetype": "text/x-python",
   "name": "python",
   "nbconvert_exporter": "python",
   "pygments_lexer": "ipython3",
   "version": "3.8.5"
  }
 },
 "nbformat": 4,
 "nbformat_minor": 4
}
