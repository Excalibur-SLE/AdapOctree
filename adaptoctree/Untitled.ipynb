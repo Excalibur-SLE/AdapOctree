{
 "cells": [
  {
   "cell_type": "code",
   "execution_count": 2,
   "metadata": {},
   "outputs": [],
   "source": [
    "import numba\n",
    "import numpy as np\n",
    "\n",
    "import adaptoctree.morton as morton\n",
    "import adaptoctree.morton as t"
   ]
  },
  {
   "cell_type": "code",
   "execution_count": 88,
   "metadata": {},
   "outputs": [],
   "source": [
    "a = set([1])"
   ]
  },
  {
   "cell_type": "code",
   "execution_count": 93,
   "metadata": {},
   "outputs": [
    {
     "name": "stdout",
     "output_type": "stream",
     "text": [
      "Help on set object:\n",
      "\n",
      "class set(object)\n",
      " |  set() -> new empty set object\n",
      " |  set(iterable) -> new set object\n",
      " |  \n",
      " |  Build an unordered collection of unique elements.\n",
      " |  \n",
      " |  Methods defined here:\n",
      " |  \n",
      " |  __and__(self, value, /)\n",
      " |      Return self&value.\n",
      " |  \n",
      " |  __contains__(...)\n",
      " |      x.__contains__(y) <==> y in x.\n",
      " |  \n",
      " |  __eq__(self, value, /)\n",
      " |      Return self==value.\n",
      " |  \n",
      " |  __ge__(self, value, /)\n",
      " |      Return self>=value.\n",
      " |  \n",
      " |  __getattribute__(self, name, /)\n",
      " |      Return getattr(self, name).\n",
      " |  \n",
      " |  __gt__(self, value, /)\n",
      " |      Return self>value.\n",
      " |  \n",
      " |  __iand__(self, value, /)\n",
      " |      Return self&=value.\n",
      " |  \n",
      " |  __init__(self, /, *args, **kwargs)\n",
      " |      Initialize self.  See help(type(self)) for accurate signature.\n",
      " |  \n",
      " |  __ior__(self, value, /)\n",
      " |      Return self|=value.\n",
      " |  \n",
      " |  __isub__(self, value, /)\n",
      " |      Return self-=value.\n",
      " |  \n",
      " |  __iter__(self, /)\n",
      " |      Implement iter(self).\n",
      " |  \n",
      " |  __ixor__(self, value, /)\n",
      " |      Return self^=value.\n",
      " |  \n",
      " |  __le__(self, value, /)\n",
      " |      Return self<=value.\n",
      " |  \n",
      " |  __len__(self, /)\n",
      " |      Return len(self).\n",
      " |  \n",
      " |  __lt__(self, value, /)\n",
      " |      Return self<value.\n",
      " |  \n",
      " |  __ne__(self, value, /)\n",
      " |      Return self!=value.\n",
      " |  \n",
      " |  __or__(self, value, /)\n",
      " |      Return self|value.\n",
      " |  \n",
      " |  __rand__(self, value, /)\n",
      " |      Return value&self.\n",
      " |  \n",
      " |  __reduce__(...)\n",
      " |      Return state information for pickling.\n",
      " |  \n",
      " |  __repr__(self, /)\n",
      " |      Return repr(self).\n",
      " |  \n",
      " |  __ror__(self, value, /)\n",
      " |      Return value|self.\n",
      " |  \n",
      " |  __rsub__(self, value, /)\n",
      " |      Return value-self.\n",
      " |  \n",
      " |  __rxor__(self, value, /)\n",
      " |      Return value^self.\n",
      " |  \n",
      " |  __sizeof__(...)\n",
      " |      S.__sizeof__() -> size of S in memory, in bytes\n",
      " |  \n",
      " |  __sub__(self, value, /)\n",
      " |      Return self-value.\n",
      " |  \n",
      " |  __xor__(self, value, /)\n",
      " |      Return self^value.\n",
      " |  \n",
      " |  add(...)\n",
      " |      Add an element to a set.\n",
      " |      \n",
      " |      This has no effect if the element is already present.\n",
      " |  \n",
      " |  clear(...)\n",
      " |      Remove all elements from this set.\n",
      " |  \n",
      " |  copy(...)\n",
      " |      Return a shallow copy of a set.\n",
      " |  \n",
      " |  difference(...)\n",
      " |      Return the difference of two or more sets as a new set.\n",
      " |      \n",
      " |      (i.e. all elements that are in this set but not the others.)\n",
      " |  \n",
      " |  difference_update(...)\n",
      " |      Remove all elements of another set from this set.\n",
      " |  \n",
      " |  discard(...)\n",
      " |      Remove an element from a set if it is a member.\n",
      " |      \n",
      " |      If the element is not a member, do nothing.\n",
      " |  \n",
      " |  intersection(...)\n",
      " |      Return the intersection of two sets as a new set.\n",
      " |      \n",
      " |      (i.e. all elements that are in both sets.)\n",
      " |  \n",
      " |  intersection_update(...)\n",
      " |      Update a set with the intersection of itself and another.\n",
      " |  \n",
      " |  isdisjoint(...)\n",
      " |      Return True if two sets have a null intersection.\n",
      " |  \n",
      " |  issubset(...)\n",
      " |      Report whether another set contains this set.\n",
      " |  \n",
      " |  issuperset(...)\n",
      " |      Report whether this set contains another set.\n",
      " |  \n",
      " |  pop(...)\n",
      " |      Remove and return an arbitrary set element.\n",
      " |      Raises KeyError if the set is empty.\n",
      " |  \n",
      " |  remove(...)\n",
      " |      Remove an element from a set; it must be a member.\n",
      " |      \n",
      " |      If the element is not a member, raise a KeyError.\n",
      " |  \n",
      " |  symmetric_difference(...)\n",
      " |      Return the symmetric difference of two sets as a new set.\n",
      " |      \n",
      " |      (i.e. all elements that are in exactly one of the sets.)\n",
      " |  \n",
      " |  symmetric_difference_update(...)\n",
      " |      Update a set with the symmetric difference of itself and another.\n",
      " |  \n",
      " |  union(...)\n",
      " |      Return the union of sets as a new set.\n",
      " |      \n",
      " |      (i.e. all elements that are in either set.)\n",
      " |  \n",
      " |  update(...)\n",
      " |      Update a set with the union of itself and others.\n",
      " |  \n",
      " |  ----------------------------------------------------------------------\n",
      " |  Static methods defined here:\n",
      " |  \n",
      " |  __new__(*args, **kwargs) from builtins.type\n",
      " |      Create and return a new object.  See help(type) for accurate signature.\n",
      " |  \n",
      " |  ----------------------------------------------------------------------\n",
      " |  Data and other attributes defined here:\n",
      " |  \n",
      " |  __hash__ = None\n",
      "\n"
     ]
    }
   ],
   "source": [
    "help(a)"
   ]
  },
  {
   "cell_type": "code",
   "execution_count": 185,
   "metadata": {},
   "outputs": [],
   "source": [
    "@numba.njit\n",
    "def numba_bfs(root, tree, depth):\n",
    "    \n",
    "    tree = set(tree)\n",
    "    \n",
    "    queue = np.array([root], dtype=np.int64)\n",
    "    \n",
    "    overlaps = set()\n",
    "    \n",
    "    sentinel = -1\n",
    "    while queue[0] != sentinel:\n",
    "        for node in queue:\n",
    "            \n",
    "            level = morton.find_level(node)\n",
    "            new_queue = np.array([sentinel], dtype=np.int64)\n",
    "            relative_depth = depth-level+1\n",
    "            \n",
    "            for l in range(1, relative_depth):\n",
    "                descs = morton.find_descendents(node, l)\n",
    "                ints = np.zeros_like(descs, dtype=np.int64)\n",
    "                \n",
    "                i = 0\n",
    "                for d in descs:\n",
    "                    if d in tree:\n",
    "                        ints[i] = d\n",
    "                        i += 1\n",
    "                        \n",
    "                ints = ints[:i]\n",
    "                \n",
    "                overlaps.update(ints)\n",
    "                \n",
    "                if new_queue[0] == sentinel:\n",
    "                    new_queue = ints\n",
    "                else:\n",
    "                    new_queue = np.hstack((new_queue, ints))\n",
    "        \n",
    "        queue = new_queue\n",
    "        \n",
    "    return overlaps\n",
    "\n",
    "\n",
    "@numba.njit\n",
    "def numba_remove_overlaps(balanced, depth):\n",
    "\n",
    "    unique = set(balanced)\n",
    "\n",
    "    for node in balanced:\n",
    "        if numba_bfs(node, unique, depth):\n",
    "            unique.remove(node)\n",
    "\n",
    "    return unique\n",
    "\n",
    "\n",
    "@numba.njit\n",
    "def numba_balance(tree, depth):\n",
    "\n",
    "    for l in range(depth, 0, -1):\n",
    "\n",
    "        # nodes at current level\n",
    "        balanced = set(tree)\n",
    "\n",
    "        levels = morton.find_level(tree)\n",
    "        Q = tree[levels == l]    \n",
    "        \n",
    "        for q in Q:\n",
    "            parent = morton.find_parent(q)\n",
    "            \n",
    "            neighbours = morton.find_neighbours(q)\n",
    "            parent_neighbours = morton.find_neighbours(parent)\n",
    "            \n",
    "            tree = np.hstack((tree, neighbours))\n",
    "            tree = np.hstack((tree, parent_neighbours))\n",
    "            \n",
    "            balanced.update(parent_neighbours)\n",
    "            balanced.update(neighbours)\n",
    "    \n",
    "    return numba_remove_overlaps(balanced, depth)"
   ]
  },
  {
   "cell_type": "code",
   "execution_count": 151,
   "metadata": {},
   "outputs": [
    {
     "data": {
      "text/plain": [
       "array([     1,  32769,  65537,  98305, 131073, 163841, 196609, 229377])"
      ]
     },
     "execution_count": 151,
     "metadata": {},
     "output_type": "execute_result"
    }
   ],
   "source": [
    "levels = morton.find_level(tree)\n",
    "\n",
    "tree[levels == 1]"
   ]
  },
  {
   "cell_type": "code",
   "execution_count": 147,
   "metadata": {},
   "outputs": [],
   "source": [
    "def bfs(root, tree, depth):\n",
    "\n",
    "    tree = set(tree)\n",
    "    queue = [root]\n",
    "\n",
    "    overlaps = set()\n",
    "\n",
    "    while queue:\n",
    "        for node in queue:\n",
    "            level = morton.find_level(node)\n",
    "            new_queue = []\n",
    "            for l in range(1, depth-level + 1):\n",
    "\n",
    "                descs = set(morton.find_descendents(node, l))\n",
    "\n",
    "                ints = descs.intersection(tree)\n",
    "                overlaps.update(ints)\n",
    "                new_queue.extend(list(ints))\n",
    "\n",
    "        queue = new_queue\n",
    "\n",
    "    return overlaps\n",
    "\n",
    "\n",
    "def remove_overlaps(balanced, depth):\n",
    "\n",
    "    unique = set(balanced)\n",
    "\n",
    "    for node in balanced:\n",
    "        if bfs(node, unique, depth):\n",
    "            unique.remove(node)\n",
    "\n",
    "    return unique\n",
    "\n",
    "\n",
    "def balance(tree, depth):\n",
    "\n",
    "    balanced = set(tree)\n",
    "\n",
    "    for l in range(depth, 0, -1):\n",
    "        # nodes at current level\n",
    "        Q = {x for x in balanced if morton.find_level(x) == l}\n",
    "\n",
    "        for q in Q:\n",
    "            parent = morton.find_parent(q)\n",
    "            neighbours = set(morton.find_neighbours(q))\n",
    "            parent_neighbours = set(morton.find_neighbours(parent))\n",
    "            balanced.update(parent_neighbours)\n",
    "            balanced.update(neighbours)\n",
    "    return remove_overlaps(list(balanced), depth)"
   ]
  },
  {
   "cell_type": "code",
   "execution_count": 72,
   "metadata": {},
   "outputs": [],
   "source": [
    "tree = np.array([      1,  458754,  229377,   65537,  163841,  491522,  917506,\n",
    "        950274, 1114114, 1146882, 1572866, 1605634, 1048578,   65538,\n",
    "             2,  131074,  196610,  524290,  655362,   32770, 1769474,\n",
    "       2031618,  229378,  753666, 1015810, 1277954, 1802242, 1507330,\n",
    "        262146, 1310722,  786434, 1835010,   32769, 1081346,  557058,\n",
    "        819202, 1867778,  294914, 1343490, 1900546,  327682,  851970,\n",
    "       1376258, 1638402,   98305,   98306,  622594, 1671170,  360450,\n",
    "       1409026,  884738, 1933314,  131073,  393218, 1179650, 1703938,\n",
    "       1441794, 1966082,  163842,  688130,  425986, 1212418, 1736706,\n",
    "        196609,  720898,  983042, 1245186])"
   ]
  },
  {
   "cell_type": "code",
   "execution_count": 121,
   "metadata": {},
   "outputs": [],
   "source": [
    "tree.sort()"
   ]
  },
  {
   "cell_type": "code",
   "execution_count": 132,
   "metadata": {},
   "outputs": [],
   "source": [
    "depth = max(morton.find_level(tree))"
   ]
  },
  {
   "cell_type": "code",
   "execution_count": 128,
   "metadata": {},
   "outputs": [
    {
     "data": {
      "text/plain": [
       "set()"
      ]
     },
     "execution_count": 128,
     "metadata": {},
     "output_type": "execute_result"
    }
   ],
   "source": [
    "bfs(tree[1], tree, depth)"
   ]
  },
  {
   "cell_type": "code",
   "execution_count": 123,
   "metadata": {},
   "outputs": [
    {
     "name": "stdout",
     "output_type": "stream",
     "text": [
      "14.9 µs ± 90.6 ns per loop (mean ± std. dev. of 7 runs, 100000 loops each)\n"
     ]
    }
   ],
   "source": [
    "%timeit bfs(1, tree, depth)"
   ]
  },
  {
   "cell_type": "code",
   "execution_count": 188,
   "metadata": {
    "scrolled": true
   },
   "outputs": [
    {
     "name": "stdout",
     "output_type": "stream",
     "text": [
      "220 µs ± 5.3 µs per loop (mean ± std. dev. of 7 runs, 1000 loops each)\n"
     ]
    }
   ],
   "source": [
    "%timeit remove_overlaps(tree, depth)"
   ]
  },
  {
   "cell_type": "code",
   "execution_count": 193,
   "metadata": {},
   "outputs": [],
   "source": [
    "a = balance(tree, depth)"
   ]
  },
  {
   "cell_type": "code",
   "execution_count": 191,
   "metadata": {},
   "outputs": [
    {
     "name": "stdout",
     "output_type": "stream",
     "text": [
      "830 µs ± 6.49 µs per loop (mean ± std. dev. of 7 runs, 1000 loops each)\n"
     ]
    }
   ],
   "source": [
    "%timeit balance(tree, depth)"
   ]
  },
  {
   "cell_type": "code",
   "execution_count": 126,
   "metadata": {},
   "outputs": [
    {
     "name": "stdout",
     "output_type": "stream",
     "text": [
      "2.67 µs ± 28.8 ns per loop (mean ± std. dev. of 7 runs, 100000 loops each)\n"
     ]
    }
   ],
   "source": [
    "%timeit numba_bfs(1, tree, depth)"
   ]
  },
  {
   "cell_type": "code",
   "execution_count": 145,
   "metadata": {
    "scrolled": true
   },
   "outputs": [],
   "source": [
    "res = numba_remove_overlaps(tree, depth)"
   ]
  },
  {
   "cell_type": "code",
   "execution_count": 146,
   "metadata": {},
   "outputs": [
    {
     "name": "stdout",
     "output_type": "stream",
     "text": [
      "80.4 µs ± 2.18 µs per loop (mean ± std. dev. of 7 runs, 10000 loops each)\n"
     ]
    }
   ],
   "source": [
    "%timeit numba_remove_overlaps(tree, depth)"
   ]
  },
  {
   "cell_type": "code",
   "execution_count": 194,
   "metadata": {},
   "outputs": [],
   "source": [
    "b = numba_balance(tree, depth)"
   ]
  },
  {
   "cell_type": "code",
   "execution_count": 190,
   "metadata": {},
   "outputs": [
    {
     "name": "stdout",
     "output_type": "stream",
     "text": [
      "291 µs ± 1.99 µs per loop (mean ± std. dev. of 7 runs, 1000 loops each)\n"
     ]
    }
   ],
   "source": [
    "%timeit numba_balance(tree, depth)"
   ]
  },
  {
   "cell_type": "code",
   "execution_count": 195,
   "metadata": {},
   "outputs": [],
   "source": [
    "assert a == b"
   ]
  }
 ],
 "metadata": {
  "kernelspec": {
   "display_name": "Python 3",
   "language": "python",
   "name": "python3"
  },
  "language_info": {
   "codemirror_mode": {
    "name": "ipython",
    "version": 3
   },
   "file_extension": ".py",
   "mimetype": "text/x-python",
   "name": "python",
   "nbconvert_exporter": "python",
   "pygments_lexer": "ipython3",
   "version": "3.8.5"
  }
 },
 "nbformat": 4,
 "nbformat_minor": 4
}
