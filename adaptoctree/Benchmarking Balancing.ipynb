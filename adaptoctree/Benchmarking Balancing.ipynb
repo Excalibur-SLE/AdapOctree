{
 "cells": [
  {
   "cell_type": "code",
   "execution_count": 2,
   "metadata": {},
   "outputs": [],
   "source": [
    "import numba\n",
    "from numba.typed import Dict, List\n",
    "import numba.types\n",
    "import numpy as np\n",
    "\n",
    "import adaptoctree.morton as morton\n",
    "import adaptoctree.tree as tree\n",
    "import adaptoctree.plotting as plotting\n",
    "\n"
   ]
  },
  {
   "cell_type": "code",
   "execution_count": 3,
   "metadata": {},
   "outputs": [],
   "source": [
    "d = Dict.empty(\n",
    "    key_type=numba.types.int64, value_type=numba.types.int64\n",
    ")"
   ]
  },
  {
   "cell_type": "code",
   "execution_count": 4,
   "metadata": {},
   "outputs": [
    {
     "data": {
      "text/plain": [
       "KeysView(DictType[int64,int64]<iv=None>({}))"
      ]
     },
     "execution_count": 4,
     "metadata": {},
     "output_type": "execute_result"
    }
   ],
   "source": [
    "d.keys()"
   ]
  },
  {
   "cell_type": "code",
   "execution_count": 5,
   "metadata": {},
   "outputs": [],
   "source": [
    "d.keys = [1, 2, 3]"
   ]
  },
  {
   "cell_type": "code",
   "execution_count": 8,
   "metadata": {},
   "outputs": [
    {
     "data": {
      "text/plain": [
       "ListType[int64]([1, 2])"
      ]
     },
     "execution_count": 8,
     "metadata": {},
     "output_type": "execute_result"
    }
   ],
   "source": [
    "List([1,2])"
   ]
  },
  {
   "cell_type": "code",
   "execution_count": 9,
   "metadata": {},
   "outputs": [],
   "source": [
    "@numba.njit\n",
    "def balance(tree, depth):\n",
    "    \n",
    "    def bfs(root, tree, depth):\n",
    "\n",
    "        tree = set(tree)\n",
    "        queue = [root]\n",
    "\n",
    "        overlaps = set()\n",
    "\n",
    "        while queue:\n",
    "            for node in queue:\n",
    "                level = morton.find_level(node)\n",
    "                new_queue = set()\n",
    "                for l in range(1, depth-level + 1):\n",
    "\n",
    "                    descs = set(morton.find_descendents(node, l))\n",
    "\n",
    "                    ints = descs.intersection(tree)\n",
    "                    overlaps.update(ints)\n",
    "                    \n",
    "                    new_queue.update(ints)\n",
    "\n",
    "            queue = list(new_queue)\n",
    "\n",
    "        return overlaps\n",
    "\n",
    "\n",
    "    def remove_overlaps(balanced, depth):\n",
    "\n",
    "        unique = set(balanced)\n",
    "\n",
    "        for node in balanced:\n",
    "            if bfs(node, unique, depth):\n",
    "                unique.remove(node)\n",
    "\n",
    "        return unique\n",
    "\n",
    "\n",
    "    balanced = set(tree)\n",
    "\n",
    "    for l in range(depth, 0, -1):\n",
    "        # nodes at current level\n",
    "        Q = [x for x in balanced if morton.find_level(x) == l]\n",
    "        \n",
    "        for q in Q:\n",
    "            parent = morton.find_parent(q)\n",
    "            neighbours = morton.find_neighbours(q)\n",
    "            parent_neighbours = morton.find_neighbours(parent)\n",
    "            \n",
    "            balanced.update(parent_neighbours)\n",
    "            balanced.update(neighbours)\n",
    "    \n",
    "    return remove_overlaps(balanced, depth)\n"
   ]
  },
  {
   "cell_type": "markdown",
   "metadata": {},
   "source": [
    "# Run with small number of particles, to allow Numba to compile"
   ]
  },
  {
   "cell_type": "code",
   "execution_count": 10,
   "metadata": {},
   "outputs": [],
   "source": [
    "N = int(1e3)\n",
    "particles = plotting.make_moon(N)\n",
    "unbalanced = tree.build(particles)\n",
    "depth = max(morton.find_level(unbalanced))"
   ]
  },
  {
   "cell_type": "code",
   "execution_count": 11,
   "metadata": {},
   "outputs": [],
   "source": [
    "b = tree.balance(unbalanced, depth)"
   ]
  },
  {
   "cell_type": "code",
   "execution_count": 12,
   "metadata": {},
   "outputs": [
    {
     "name": "stdout",
     "output_type": "stream",
     "text": [
      "2.61 ms ± 71.2 µs per loop (mean ± std. dev. of 7 runs, 100 loops each)\n"
     ]
    }
   ],
   "source": [
    "%timeit balanced = tree.balance(unbalanced, depth)"
   ]
  },
  {
   "cell_type": "code",
   "execution_count": 15,
   "metadata": {},
   "outputs": [
    {
     "data": {
      "text/plain": [
       "{98307}"
      ]
     },
     "execution_count": 15,
     "metadata": {},
     "output_type": "execute_result"
    }
   ],
   "source": [
    "b.intersection(np.array([98307]))"
   ]
  },
  {
   "cell_type": "code",
   "execution_count": 29,
   "metadata": {},
   "outputs": [],
   "source": [
    "a = balance(unbalanced, depth)"
   ]
  },
  {
   "cell_type": "code",
   "execution_count": 30,
   "metadata": {},
   "outputs": [
    {
     "name": "stdout",
     "output_type": "stream",
     "text": [
      "151 ms ± 777 µs per loop (mean ± std. dev. of 7 runs, 10 loops each)\n"
     ]
    }
   ],
   "source": [
    "%timeit balance(unbalanced, depth)"
   ]
  },
  {
   "cell_type": "code",
   "execution_count": 27,
   "metadata": {},
   "outputs": [
    {
     "data": {
      "text/plain": [
       "True"
      ]
     },
     "execution_count": 27,
     "metadata": {},
     "output_type": "execute_result"
    }
   ],
   "source": [
    "b == set(a)"
   ]
  },
  {
   "cell_type": "markdown",
   "metadata": {},
   "source": [
    "# Run with larger number of particles"
   ]
  },
  {
   "cell_type": "code",
   "execution_count": 14,
   "metadata": {},
   "outputs": [],
   "source": [
    "N = int(1e4)\n",
    "particles = plotting.make_moon(N)\n",
    "unbalanced = tree.build(particles)\n",
    "depth = max(morton.find_level(unbalanced))"
   ]
  },
  {
   "cell_type": "code",
   "execution_count": 15,
   "metadata": {},
   "outputs": [],
   "source": [
    "_ = balance(unbalanced, depth)"
   ]
  },
  {
   "cell_type": "code",
   "execution_count": 16,
   "metadata": {},
   "outputs": [
    {
     "name": "stdout",
     "output_type": "stream",
     "text": [
      "238 ms ± 982 µs per loop (mean ± std. dev. of 7 runs, 1 loop each)\n"
     ]
    }
   ],
   "source": [
    "%timeit balance(unbalanced, depth)"
   ]
  },
  {
   "cell_type": "code",
   "execution_count": 17,
   "metadata": {},
   "outputs": [
    {
     "name": "stdout",
     "output_type": "stream",
     "text": [
      "31.9 ms ± 394 µs per loop (mean ± std. dev. of 7 runs, 10 loops each)\n"
     ]
    }
   ],
   "source": [
    "%timeit tree.balance(unbalanced, depth)"
   ]
  },
  {
   "cell_type": "code",
   "execution_count": null,
   "metadata": {},
   "outputs": [],
   "source": []
  }
 ],
 "metadata": {
  "kernelspec": {
   "display_name": "Python 3",
   "language": "python",
   "name": "python3"
  },
  "language_info": {
   "codemirror_mode": {
    "name": "ipython",
    "version": 3
   },
   "file_extension": ".py",
   "mimetype": "text/x-python",
   "name": "python",
   "nbconvert_exporter": "python",
   "pygments_lexer": "ipython3",
   "version": "3.8.5"
  }
 },
 "nbformat": 4,
 "nbformat_minor": 4
}
