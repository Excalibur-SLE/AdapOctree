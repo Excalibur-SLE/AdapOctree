{
 "cells": [
  {
   "cell_type": "code",
   "execution_count": 1,
   "metadata": {},
   "outputs": [],
   "source": [
    "import numpy as np\n",
    "\n",
    "import adaptoctree.morton as morton\n",
    "import adaptoctree.tree as tree\n",
    "import adaptoctree.plotting as plotting"
   ]
  },
  {
   "cell_type": "markdown",
   "metadata": {},
   "source": [
    "# Test logic"
   ]
  },
  {
   "cell_type": "code",
   "execution_count": 16,
   "metadata": {},
   "outputs": [],
   "source": [
    "N = int(1e3)\n",
    "particles = plotting.make_moon(N)\n",
    "# particles = np.random.rand(N, 3)\n",
    "\n",
    "max_level = 16\n",
    "max_num_particles = 76"
   ]
  },
  {
   "cell_type": "code",
   "execution_count": 17,
   "metadata": {},
   "outputs": [],
   "source": [
    "max_bound, min_bound = morton.find_bounds(particles)\n",
    "x0 = morton.find_center(max_bound, min_bound)\n",
    "r0 = morton.find_radius(x0, max_bound, min_bound)"
   ]
  },
  {
   "cell_type": "code",
   "execution_count": 18,
   "metadata": {},
   "outputs": [],
   "source": [
    "unbalanced = tree.build(particles, max_level, max_num_particles, 1)\n",
    "tst = unbalanced\n",
    "unbalanced = np.unique(unbalanced)\n",
    "depth = max(morton.find_level(unbalanced))"
   ]
  },
  {
   "cell_type": "code",
   "execution_count": 19,
   "metadata": {},
   "outputs": [
    {
     "data": {
      "text/plain": [
       "30"
      ]
     },
     "execution_count": 19,
     "metadata": {},
     "output_type": "execute_result"
    }
   ],
   "source": [
    "len(unbalanced)"
   ]
  },
  {
   "cell_type": "code",
   "execution_count": 20,
   "metadata": {},
   "outputs": [],
   "source": [
    "balanced = tree.balance(unbalanced, depth)"
   ]
  },
  {
   "cell_type": "code",
   "execution_count": 21,
   "metadata": {},
   "outputs": [],
   "source": [
    "balanced = np.fromiter(balanced, np.int64, len(balanced))"
   ]
  },
  {
   "cell_type": "code",
   "execution_count": 22,
   "metadata": {},
   "outputs": [
    {
     "data": {
      "text/plain": [
       "246"
      ]
     },
     "execution_count": 22,
     "metadata": {},
     "output_type": "execute_result"
    }
   ],
   "source": [
    "len(balanced)"
   ]
  },
  {
   "cell_type": "code",
   "execution_count": 23,
   "metadata": {},
   "outputs": [],
   "source": [
    "balanced_leaves = tree.assign_points_to_keys(particles, balanced, x0, r0)"
   ]
  },
  {
   "cell_type": "code",
   "execution_count": 24,
   "metadata": {},
   "outputs": [
    {
     "name": "stdout",
     "output_type": "stream",
     "text": [
      "Using matplotlib backend: Qt5Agg\n"
     ]
    }
   ],
   "source": [
    "%matplotlib\n",
    "\n",
    "import itertools\n",
    "import matplotlib.pyplot as plt\n",
    "\n",
    "def plot_tree(octree, sources, octree_center, octree_radius):\n",
    "    \"\"\"\n",
    "\n",
    "    Parameters:\n",
    "    -----------\n",
    "    octree : Octree\n",
    "    \"\"\"\n",
    "\n",
    "    points = []\n",
    "\n",
    "    fig1 = plt.figure()\n",
    "    ax1 = fig1.add_subplot(111, projection='3d')\n",
    "\n",
    "    unique = []\n",
    "\n",
    "    for node in octree:\n",
    "        level = morton.find_level(node)\n",
    "        radius = octree_radius / (1 << level)\n",
    "\n",
    "        center = morton.find_center_from_key(node, octree_center, octree_radius)\n",
    "\n",
    "        r = [-radius, radius]\n",
    "\n",
    "        for s, e in itertools.combinations(np.array(list(itertools.product(r, r, r))), 2):\n",
    "            if np.sum(np.abs(s-e)) == r[1]-r[0]:\n",
    "                ax1.plot3D(*zip(s+center, e+center), color=\"b\")\n",
    "\n",
    "    # Plot particle data\n",
    "    ax1.scatter(sources[:, 0], sources[:, 1], sources[:, 2], c='g', s=10)\n",
    "    plt.show()"
   ]
  },
  {
   "cell_type": "code",
   "execution_count": 27,
   "metadata": {},
   "outputs": [],
   "source": [
    "plot_tree(unbalanced, particles, x0, r0)"
   ]
  },
  {
   "cell_type": "code",
   "execution_count": 28,
   "metadata": {},
   "outputs": [],
   "source": [
    "plot_tree(balanced, particles, x0, r0)"
   ]
  },
  {
   "cell_type": "code",
   "execution_count": 12,
   "metadata": {},
   "outputs": [],
   "source": [
    "# Test num particles constraint\n",
    "_, counts = np.unique(balanced_leaves, return_counts=True)\n",
    "assert np.all(counts <= max_num_particles)\n",
    "assert sum(counts) == N"
   ]
  },
  {
   "cell_type": "code",
   "execution_count": 13,
   "metadata": {
    "scrolled": false
   },
   "outputs": [],
   "source": [
    "# Check for balancing condition\n",
    "for i in balanced:\n",
    "    for j in balanced:\n",
    "        if (i != j) and morton.are_neighbours(i, j, x0, r0):\n",
    "            diff = morton.find_level(i) - morton.find_level(j)\n",
    "            assert diff <= 1"
   ]
  },
  {
   "cell_type": "code",
   "execution_count": 14,
   "metadata": {
    "scrolled": true
   },
   "outputs": [],
   "source": [
    "# Check for overlaps\n",
    "\n",
    "for i, ki in enumerate(balanced):\n",
    "    for j, kj in enumerate(balanced):\n",
    "        if j != i:\n",
    "            assert ki not in morton.find_ancestors(kj)            "
   ]
  },
  {
   "cell_type": "markdown",
   "metadata": {},
   "source": [
    "# Benchmarking"
   ]
  },
  {
   "cell_type": "code",
   "execution_count": 23,
   "metadata": {},
   "outputs": [
    {
     "data": {
      "text/plain": [
       "42770"
      ]
     },
     "execution_count": 23,
     "metadata": {},
     "output_type": "execute_result"
    }
   ],
   "source": [
    "N = int(1e5)\n",
    "particles = plotting.make_moon(N)\n",
    "# particles = np.random.rand(N, 3)\n",
    "\n",
    "max_level = 16\n",
    "max_num_particles = 5\n",
    "\n",
    "\n",
    "max_bound, min_bound = morton.find_bounds(particles)\n",
    "x0 = morton.find_center(max_bound, min_bound)\n",
    "r0 = morton.find_radius(x0, max_bound, min_bound)\n",
    "\n",
    "unbalanced = tree.build(particles, max_level=max_level, max_points=5)\n",
    "unbalanced, counts = np.unique(unbalanced, return_counts=True)\n",
    "\n",
    "len(unbalanced)"
   ]
  },
  {
   "cell_type": "code",
   "execution_count": 24,
   "metadata": {},
   "outputs": [
    {
     "data": {
      "text/plain": [
       "True"
      ]
     },
     "execution_count": 24,
     "metadata": {},
     "output_type": "execute_result"
    }
   ],
   "source": [
    "np.all(counts <= 5)"
   ]
  },
  {
   "cell_type": "code",
   "execution_count": 25,
   "metadata": {},
   "outputs": [
    {
     "name": "stdout",
     "output_type": "stream",
     "text": [
      "34.3 ms ± 1.07 ms per loop (mean ± std. dev. of 7 runs, 10 loops each)\n"
     ]
    }
   ],
   "source": [
    "%timeit tree.build(particles, max_level, max_num_particles)"
   ]
  },
  {
   "cell_type": "code",
   "execution_count": 26,
   "metadata": {
    "scrolled": true
   },
   "outputs": [
    {
     "name": "stdout",
     "output_type": "stream",
     "text": [
      "17 ms ± 121 µs per loop (mean ± std. dev. of 7 runs, 100 loops each)\n"
     ]
    }
   ],
   "source": [
    "%timeit tree.balance(unbalanced, depth)"
   ]
  },
  {
   "cell_type": "code",
   "execution_count": 27,
   "metadata": {},
   "outputs": [],
   "source": [
    "tst = tree.balance(unbalanced, depth)"
   ]
  },
  {
   "cell_type": "code",
   "execution_count": 28,
   "metadata": {},
   "outputs": [
    {
     "data": {
      "text/plain": [
       "False"
      ]
     },
     "execution_count": 28,
     "metadata": {},
     "output_type": "execute_result"
    }
   ],
   "source": [
    "tst == set(unbalanced)"
   ]
  },
  {
   "cell_type": "code",
   "execution_count": null,
   "metadata": {},
   "outputs": [],
   "source": []
  }
 ],
 "metadata": {
  "kernelspec": {
   "display_name": "Python 3",
   "language": "python",
   "name": "python3"
  },
  "language_info": {
   "codemirror_mode": {
    "name": "ipython",
    "version": 3
   },
   "file_extension": ".py",
   "mimetype": "text/x-python",
   "name": "python",
   "nbconvert_exporter": "python",
   "pygments_lexer": "ipython3",
   "version": "3.8.5"
  }
 },
 "nbformat": 4,
 "nbformat_minor": 4
}
