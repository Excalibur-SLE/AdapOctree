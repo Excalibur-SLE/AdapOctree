{
 "cells": [
  {
   "cell_type": "code",
   "execution_count": 23,
   "metadata": {},
   "outputs": [],
   "source": [
    "import numpy as np\n",
    "\n",
    "import adaptoctree.morton as morton\n",
    "import adaptoctree.tree as tree\n",
    "import adaptoctree.plotting as plotting"
   ]
  },
  {
   "cell_type": "markdown",
   "metadata": {},
   "source": [
    "# Test logic"
   ]
  },
  {
   "cell_type": "code",
   "execution_count": 24,
   "metadata": {},
   "outputs": [],
   "source": [
    "N = int(1e3)\n",
    "particles = plotting.make_moon(N)\n",
    "# particles = np.random.rand(N, 3)\n",
    "\n",
    "max_level = 16\n",
    "max_num_particles = 150"
   ]
  },
  {
   "cell_type": "code",
   "execution_count": 3,
   "metadata": {},
   "outputs": [],
   "source": [
    "max_bound, min_bound = morton.find_bounds(particles)\n",
    "x0 = morton.find_center(max_bound, min_bound)\n",
    "r0 = morton.find_radius(x0, max_bound, min_bound)"
   ]
  },
  {
   "cell_type": "code",
   "execution_count": 4,
   "metadata": {},
   "outputs": [],
   "source": [
    "unbalanced = tree.build(particles, max_level, max_num_particles)\n",
    "unbalanced = np.unique(unbalanced)\n",
    "depth = max(morton.find_level(unbalanced))"
   ]
  },
  {
   "cell_type": "code",
   "execution_count": 5,
   "metadata": {},
   "outputs": [],
   "source": [
    "balanced = tree.balance(unbalanced, depth)"
   ]
  },
  {
   "cell_type": "code",
   "execution_count": 6,
   "metadata": {},
   "outputs": [],
   "source": [
    "numba_balanced = tree.numba_balance(unbalanced, depth)"
   ]
  },
  {
   "cell_type": "code",
   "execution_count": 7,
   "metadata": {},
   "outputs": [],
   "source": [
    "# Check numba balancing works\n",
    "assert set(list(numba_balanced)) == balanced\n",
    "\n",
    "balanced = numba_balanced"
   ]
  },
  {
   "cell_type": "code",
   "execution_count": 8,
   "metadata": {},
   "outputs": [],
   "source": [
    "balanced_leaves = tree.assign_points_to_keys(particles, balanced, x0, r0)"
   ]
  },
  {
   "cell_type": "code",
   "execution_count": 9,
   "metadata": {},
   "outputs": [],
   "source": [
    "# Test num particles constraint\n",
    "\n",
    "_, counts = np.unique(balanced_leaves, return_counts=True)\n",
    "assert np.all(counts) < max_num_particles"
   ]
  },
  {
   "cell_type": "code",
   "execution_count": 10,
   "metadata": {
    "scrolled": true
   },
   "outputs": [],
   "source": [
    "# Check for balancing condition\n",
    "\n",
    "for i in balanced:\n",
    "    for j in balanced:\n",
    "        if (i != j) and morton.are_neighbours(i, j, x0, r0):\n",
    "            diff = morton.find_level(i) - morton.find_level(j)\n",
    "            assert diff <= 1"
   ]
  },
  {
   "cell_type": "code",
   "execution_count": 11,
   "metadata": {
    "scrolled": true
   },
   "outputs": [],
   "source": [
    "# Check for overlaps\n",
    "\n",
    "for i, ki in enumerate(balanced):\n",
    "    for j, kj in enumerate(balanced):\n",
    "        if j != i:\n",
    "            assert ki not in morton.find_ancestors(kj)            "
   ]
  },
  {
   "cell_type": "markdown",
   "metadata": {},
   "source": [
    "# Benchmarking"
   ]
  },
  {
   "cell_type": "code",
   "execution_count": 34,
   "metadata": {},
   "outputs": [
    {
     "data": {
      "text/plain": [
       "300566"
      ]
     },
     "execution_count": 34,
     "metadata": {},
     "output_type": "execute_result"
    }
   ],
   "source": [
    "N = int(1e7)\n",
    "particles = plotting.make_moon(N)\n",
    "# particles = np.random.rand(N, 3)\n",
    "\n",
    "max_level = 16\n",
    "max_num_particles = 100\n",
    "\n",
    "\n",
    "max_bound, min_bound = morton.find_bounds(particles)\n",
    "x0 = morton.find_center(max_bound, min_bound)\n",
    "r0 = morton.find_radius(x0, max_bound, min_bound)\n",
    "\n",
    "unbalanced = tree.build(particles, max_level, max_num_particles)\n",
    "unbalanced = np.unique(unbalanced)\n",
    "\n",
    "len(unbalanced)"
   ]
  },
  {
   "cell_type": "code",
   "execution_count": 29,
   "metadata": {},
   "outputs": [
    {
     "name": "stdout",
     "output_type": "stream",
     "text": [
      "343 ms ± 27.1 ms per loop (mean ± std. dev. of 7 runs, 1 loop each)\n"
     ]
    }
   ],
   "source": [
    "%timeit tree.build(particles, max_level, max_num_particles)"
   ]
  },
  {
   "cell_type": "code",
   "execution_count": 35,
   "metadata": {},
   "outputs": [
    {
     "name": "stdout",
     "output_type": "stream",
     "text": [
      "519 ms ± 9.53 ms per loop (mean ± std. dev. of 7 runs, 1 loop each)\n"
     ]
    }
   ],
   "source": [
    "%timeit tst = tree.balance(unbalanced, depth)"
   ]
  },
  {
   "cell_type": "code",
   "execution_count": 20,
   "metadata": {},
   "outputs": [],
   "source": [
    "_ = tree.numba_balance(unbalanced, depth)"
   ]
  },
  {
   "cell_type": "code",
   "execution_count": 22,
   "metadata": {},
   "outputs": [
    {
     "name": "stdout",
     "output_type": "stream",
     "text": [
      "5.27 ms ± 47.3 µs per loop (mean ± std. dev. of 7 runs, 100 loops each)\n"
     ]
    }
   ],
   "source": [
    "%timeit tree.numba_balance(unbalanced, depth)"
   ]
  },
  {
   "cell_type": "code",
   "execution_count": 16,
   "metadata": {},
   "outputs": [],
   "source": [
    "a = tree.numba_balance(unbalanced, depth)"
   ]
  },
  {
   "cell_type": "code",
   "execution_count": 17,
   "metadata": {},
   "outputs": [],
   "source": [
    "b = tree.balance(unbalanced, depth)"
   ]
  },
  {
   "cell_type": "code",
   "execution_count": 18,
   "metadata": {},
   "outputs": [],
   "source": [
    "assert b == a"
   ]
  },
  {
   "cell_type": "code",
   "execution_count": null,
   "metadata": {},
   "outputs": [],
   "source": [
    "len(a)"
   ]
  },
  {
   "cell_type": "code",
   "execution_count": null,
   "metadata": {},
   "outputs": [],
   "source": []
  }
 ],
 "metadata": {
  "kernelspec": {
   "display_name": "Python 3",
   "language": "python",
   "name": "python3"
  },
  "language_info": {
   "codemirror_mode": {
    "name": "ipython",
    "version": 3
   },
   "file_extension": ".py",
   "mimetype": "text/x-python",
   "name": "python",
   "nbconvert_exporter": "python",
   "pygments_lexer": "ipython3",
   "version": "3.8.5"
  }
 },
 "nbformat": 4,
 "nbformat_minor": 4
}
