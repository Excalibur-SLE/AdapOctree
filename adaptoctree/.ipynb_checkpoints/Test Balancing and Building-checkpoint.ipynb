{
 "cells": [
  {
   "cell_type": "code",
   "execution_count": 1,
   "metadata": {},
   "outputs": [],
   "source": [
    "import numpy as np\n",
    "\n",
    "import adaptoctree.morton as morton\n",
    "import adaptoctree.tree as tree\n",
    "import adaptoctree.plotting as plotting"
   ]
  },
  {
   "cell_type": "markdown",
   "metadata": {},
   "source": [
    "# Test logic"
   ]
  },
  {
   "cell_type": "code",
   "execution_count": 2,
   "metadata": {},
   "outputs": [],
   "source": [
    "N = int(1e3)\n",
    "particles = plotting.make_moon(N)\n",
    "# particles = np.random.rand(N, 3)\n",
    "\n",
    "max_level = 16\n",
    "max_num_particles = 50"
   ]
  },
  {
   "cell_type": "code",
   "execution_count": 3,
   "metadata": {},
   "outputs": [],
   "source": [
    "max_bound, min_bound = morton.find_bounds(particles)\n",
    "x0 = morton.find_center(max_bound, min_bound)\n",
    "r0 = morton.find_radius(x0, max_bound, min_bound)"
   ]
  },
  {
   "cell_type": "code",
   "execution_count": 4,
   "metadata": {},
   "outputs": [],
   "source": [
    "unbalanced = tree.build(particles, max_level, max_num_particles, 1)\n",
    "tst = unbalanced\n",
    "unbalanced = np.unique(unbalanced)\n",
    "depth = max(morton.find_level(unbalanced))"
   ]
  },
  {
   "cell_type": "code",
   "execution_count": 5,
   "metadata": {},
   "outputs": [
    {
     "data": {
      "text/plain": [
       "45"
      ]
     },
     "execution_count": 5,
     "metadata": {},
     "output_type": "execute_result"
    }
   ],
   "source": [
    "len(unbalanced)"
   ]
  },
  {
   "cell_type": "code",
   "execution_count": 6,
   "metadata": {},
   "outputs": [],
   "source": [
    "balanced = tree.balance(unbalanced, depth)"
   ]
  },
  {
   "cell_type": "code",
   "execution_count": 7,
   "metadata": {},
   "outputs": [],
   "source": [
    "balanced = np.fromiter(balanced, np.int64, len(balanced))"
   ]
  },
  {
   "cell_type": "code",
   "execution_count": 8,
   "metadata": {},
   "outputs": [
    {
     "data": {
      "text/plain": [
       "337"
      ]
     },
     "execution_count": 8,
     "metadata": {},
     "output_type": "execute_result"
    }
   ],
   "source": [
    "len(balanced)"
   ]
  },
  {
   "cell_type": "code",
   "execution_count": null,
   "metadata": {},
   "outputs": [],
   "source": [
    "balanced_leaves = tree.assign_points_to_keys(particles, balanced, x0, r0)"
   ]
  },
  {
   "cell_type": "code",
   "execution_count": 10,
   "metadata": {},
   "outputs": [],
   "source": [
    "point = particles[balanced_leaves == -1][0]"
   ]
  },
  {
   "cell_type": "code",
   "execution_count": 21,
   "metadata": {},
   "outputs": [
    {
     "data": {
      "text/plain": [
       "array([[ 2.7705871 ,  0.60934245,  0.37054475],\n",
       "       [ 2.76791634,  0.73993218,  0.86420982],\n",
       "       [ 2.7978668 ,  0.89182525,  0.48380788],\n",
       "       [ 2.91328523,  0.85162724,  0.40966737],\n",
       "       [ 2.88711294,  1.38149122,  1.15062644],\n",
       "       [ 3.04315565,  0.8588149 ,  0.16988802],\n",
       "       [ 3.00331582,  0.84432623,  0.45818889],\n",
       "       [ 2.99076279,  1.16006097,  0.65291726],\n",
       "       [ 3.03093899,  1.17114679,  0.50633323],\n",
       "       [ 3.06140007,  1.23246635,  0.44843694],\n",
       "       [ 3.04663481,  0.8938601 ,  0.87341321],\n",
       "       [ 2.7761803 ,  0.75385167,  0.69463556],\n",
       "       [ 2.82678431,  1.0188243 ,  0.93792322],\n",
       "       [ 2.9963841 ,  1.44644181,  1.0522973 ],\n",
       "       [ 3.16347468,  0.66166477,  0.82403081],\n",
       "       [ 3.09587133,  1.01343776,  0.8242614 ],\n",
       "       [ 2.89017291,  0.74833487,  0.24994967],\n",
       "       [ 2.98598436,  0.670948  ,  0.41519831],\n",
       "       [ 3.11752562,  0.83196236,  0.51097764],\n",
       "       [ 3.06325807,  0.94400289,  0.34834186],\n",
       "       [ 2.9665164 ,  0.62909187,  0.43890754],\n",
       "       [ 2.79572288,  1.08222621,  0.78394919],\n",
       "       [ 3.20845859,  1.28002173, -0.0571356 ],\n",
       "       [ 2.86929104,  1.1117522 ,  0.74601128],\n",
       "       [ 2.79564936,  0.81094384,  0.57325292],\n",
       "       [ 2.76615511,  1.29632398,  1.03312034],\n",
       "       [ 2.99030753,  0.9758519 ,  0.24980262],\n",
       "       [ 3.33725843,  0.52157438,  0.26726618],\n",
       "       [ 2.84902157,  1.09129014,  0.81602301],\n",
       "       [ 2.78802558,  1.09009222,  0.74905177],\n",
       "       [ 2.84422437,  0.95391268,  1.17360841],\n",
       "       [ 2.97540289,  0.6724728 ,  1.06326469],\n",
       "       [ 3.08936848,  1.32052095,  0.66802013],\n",
       "       [ 2.98732578,  1.38671595,  0.55075891],\n",
       "       [ 2.94365265,  0.95686261,  1.05011919],\n",
       "       [ 2.80687584,  1.35604715,  0.83889269],\n",
       "       [ 3.14624028,  1.24122973,  0.95651804],\n",
       "       [ 2.76520186,  1.09820759,  0.44457457],\n",
       "       [ 2.94128013,  1.10833761,  1.09758505],\n",
       "       [ 3.07520532,  0.94096079,  0.66570333],\n",
       "       [ 2.76919504,  0.89729711,  0.54020308],\n",
       "       [ 2.87590111,  1.17908054,  0.42872332],\n",
       "       [ 2.81755245,  0.53611766,  0.5122124 ],\n",
       "       [ 3.1909587 ,  0.54845943,  0.15255796],\n",
       "       [ 3.1991687 ,  1.08778606,  0.4325478 ],\n",
       "       [ 3.16251163,  0.98933986,  0.48397972],\n",
       "       [ 3.07611767,  1.08438195,  1.02054009],\n",
       "       [ 2.78458035,  0.79629043,  1.28557662],\n",
       "       [ 3.10687246,  0.54996828,  0.83036394],\n",
       "       [ 2.99581598,  1.24520429,  0.25246314],\n",
       "       [ 2.90903417,  1.03455725,  1.0900483 ],\n",
       "       [ 2.77678795,  1.12255673,  0.91492287],\n",
       "       [ 2.85641011,  0.92598166,  0.67242053],\n",
       "       [ 2.97965726,  0.87996343,  0.28677716],\n",
       "       [ 2.78547946,  1.1487934 ,  0.70143119],\n",
       "       [ 2.99546439,  0.57948516,  0.51805466],\n",
       "       [ 2.96043778,  1.30148608,  0.95024301],\n",
       "       [ 2.7667211 ,  0.62120838,  1.35339139],\n",
       "       [ 3.19060908,  0.72103668,  0.88618001],\n",
       "       [ 2.80571302,  1.36177943,  0.91095214],\n",
       "       [ 3.08840837,  1.04824846,  0.75914499],\n",
       "       [ 2.89269585,  0.55976131,  1.14179345],\n",
       "       [ 3.03406068,  0.94452031,  0.50149712],\n",
       "       [ 3.15974885,  0.63814099,  0.82165174],\n",
       "       [ 2.79917042,  0.83710784,  0.57778666],\n",
       "       [ 3.07158979,  1.16823487,  0.68984041],\n",
       "       [ 2.91755493,  0.51794479,  0.84491065],\n",
       "       [ 2.89221209,  0.79897573,  1.11234316],\n",
       "       [ 2.95897336,  1.31016358,  1.15169158],\n",
       "       [ 3.24164815,  0.50808797, -0.09912239],\n",
       "       [ 3.1395893 ,  0.54958325,  0.84376697],\n",
       "       [ 2.98960306,  1.16880425,  0.73365604],\n",
       "       [ 3.09953308,  0.51175205,  0.78421326],\n",
       "       [ 3.1554728 ,  0.69581651,  0.78432258],\n",
       "       [ 3.20582913,  1.0739224 ,  0.64237244],\n",
       "       [ 3.10037283,  0.79648851,  0.13448537],\n",
       "       [ 3.05778263,  0.54281148,  0.11553191],\n",
       "       [ 4.34632094,  0.78211051, -0.87049723],\n",
       "       [ 4.43325545,  1.18147302, -0.9550359 ],\n",
       "       [ 4.29120163,  0.6404157 , -0.86290038],\n",
       "       [ 4.29768852,  1.13193999, -0.84471181],\n",
       "       [ 4.12082525,  0.51704952, -0.43082399],\n",
       "       [ 4.17953818,  0.52667366,  0.02650486],\n",
       "       [ 4.57361105,  0.65569366, -0.90276864],\n",
       "       [ 4.58216197,  1.00571485, -0.94069268],\n",
       "       [ 4.68846357,  1.15107991, -0.93486337],\n",
       "       [ 4.61614569,  1.41349589, -0.90640988],\n",
       "       [ 4.26537406,  0.51080315, -0.15341905],\n",
       "       [ 4.71801535,  1.46576865, -0.90715397],\n",
       "       [ 4.91849114,  1.19385217, -0.94691415],\n",
       "       [ 4.47482319,  1.02559431, -0.8513849 ],\n",
       "       [ 4.84538078,  0.97887942, -0.89916923],\n",
       "       [ 4.31597566,  0.5307291 , -0.35513586],\n",
       "       [ 4.85311459,  1.23841327, -0.94111124],\n",
       "       [ 4.40121773,  1.10738879, -0.92331033],\n",
       "       [ 4.92596858,  0.65153879, -0.89747133],\n",
       "       [ 4.86166081,  0.50037391, -0.2226732 ],\n",
       "       [ 4.89425007,  0.63550708, -0.90036523],\n",
       "       [ 4.90609066,  0.50922886, -0.90455588],\n",
       "       [ 4.99903774,  1.36712758, -0.91969836],\n",
       "       [ 4.55967104,  1.48897407, -0.95624817],\n",
       "       [ 4.82677129,  0.51671221, -0.36609676],\n",
       "       [ 4.8328659 ,  1.14067311, -0.86100441],\n",
       "       [ 6.38413477,  1.40542728,  0.99835403],\n",
       "       [ 6.35539113,  0.66441916,  0.96819232],\n",
       "       [ 6.46306976,  1.08938699,  1.03862415],\n",
       "       [ 6.62404896,  1.02999112,  1.06187111],\n",
       "       [ 6.2514687 ,  1.29951828,  0.95041102],\n",
       "       [ 6.70236946,  0.58678076,  1.28731485],\n",
       "       [ 6.83044083,  1.29745287,  1.0419998 ],\n",
       "       [ 6.34750162,  1.00457051,  0.95687042],\n",
       "       [ 6.88677318,  1.28241199,  0.59014095],\n",
       "       [ 6.80041007,  1.07368585,  1.39471282],\n",
       "       [ 6.54352245,  1.39521451,  1.0744179 ],\n",
       "       [ 6.78001396,  1.16831126,  0.65727857],\n",
       "       [ 6.84135088,  1.40253013,  0.88935962],\n",
       "       [ 6.92849095,  0.87564844,  1.49194441],\n",
       "       [ 6.90808698,  0.84234077,  1.48846605],\n",
       "       [ 6.68967503,  0.94913439,  1.35523098],\n",
       "       [ 6.81793287,  0.60322174,  1.16561948],\n",
       "       [ 6.53528691,  0.90770306,  0.95116285],\n",
       "       [ 6.80930291,  1.45830287,  0.96833509],\n",
       "       [ 6.92059624,  0.50442288,  1.26988192],\n",
       "       [ 7.00366271,  0.58391738,  1.16276324],\n",
       "       [ 6.79735319,  1.02061398,  1.39947023],\n",
       "       [ 6.47072802,  1.30879619,  1.18411629],\n",
       "       [ 6.98469816,  0.62819235,  0.83482724],\n",
       "       [ 7.06734734,  0.70145477,  1.22319521],\n",
       "       [ 6.98628571,  0.91720996,  1.48356047],\n",
       "       [ 6.51118253,  0.59185209,  1.15218707],\n",
       "       [ 6.45168667,  0.66811714,  1.16629078],\n",
       "       [ 6.71043654,  0.67505022,  1.30216418],\n",
       "       [ 6.28967262,  1.39223392,  0.94821196],\n",
       "       [ 6.516878  ,  1.46300922,  1.15162631],\n",
       "       [ 6.69525329,  1.30449537,  1.07973467],\n",
       "       [ 7.04539578,  1.00368481,  0.70088828],\n",
       "       [ 6.39295531,  1.3383216 ,  0.93835067],\n",
       "       [ 7.02307493,  0.74255995,  0.8428242 ],\n",
       "       [ 6.62693259,  1.18823964,  1.261643  ],\n",
       "       [ 6.83012903,  1.20064096,  1.18964554],\n",
       "       [ 7.02044434,  1.16164533,  1.52906221],\n",
       "       [ 7.21437895,  0.94044087,  1.61644587],\n",
       "       [ 7.01158177,  0.55198814,  1.09850453],\n",
       "       [ 6.74909558,  0.54917123,  1.11284191],\n",
       "       [ 7.03071418,  0.6422448 ,  1.17624451],\n",
       "       [ 6.95350456,  0.75936447,  0.83951717],\n",
       "       [ 6.35245797,  1.08629443,  1.03607134]])"
      ]
     },
     "execution_count": 21,
     "metadata": {},
     "output_type": "execute_result"
    }
   ],
   "source": [
    "particles[balanced_leaves == -1]"
   ]
  },
  {
   "cell_type": "code",
   "execution_count": 77,
   "metadata": {},
   "outputs": [],
   "source": [
    "key = morton.encode_point(point, 4, x0, r0)"
   ]
  },
  {
   "cell_type": "code",
   "execution_count": 78,
   "metadata": {},
   "outputs": [
    {
     "data": {
      "text/plain": [
       "16711684"
      ]
     },
     "execution_count": 78,
     "metadata": {},
     "output_type": "execute_result"
    }
   ],
   "source": [
    "key"
   ]
  },
  {
   "cell_type": "code",
   "execution_count": 71,
   "metadata": {
    "scrolled": true
   },
   "outputs": [
    {
     "data": {
      "text/plain": [
       "{14712836,\n",
       " 14778372,\n",
       " 14843908,\n",
       " 14909444,\n",
       " 14942212,\n",
       " 14974980,\n",
       " 15007748,\n",
       " 15040516,\n",
       " 15073284,\n",
       " 15106052,\n",
       " 15138820,\n",
       " 15171588,\n",
       " 15237124,\n",
       " 15302660,\n",
       " 15368196,\n",
       " 15433732,\n",
       " 15466500,\n",
       " 15499268,\n",
       " 15532036,\n",
       " 15564804,\n",
       " 15597572,\n",
       " 15630340,\n",
       " 15663108,\n",
       " 15695876,\n",
       " 16613380,\n",
       " 16744452}"
      ]
     },
     "execution_count": 71,
     "metadata": {},
     "output_type": "execute_result"
    }
   ],
   "source": [
    "set(morton.find_descendents(key, 2)).intersection(balanced)"
   ]
  },
  {
   "cell_type": "code",
   "execution_count": 79,
   "metadata": {},
   "outputs": [
    {
     "data": {
      "text/plain": [
       "array([6, 7, 7, 4], dtype=int32)"
      ]
     },
     "execution_count": 79,
     "metadata": {},
     "output_type": "execute_result"
    }
   ],
   "source": [
    "morton.decode_key(key)"
   ]
  },
  {
   "cell_type": "code",
   "execution_count": 81,
   "metadata": {},
   "outputs": [
    {
     "data": {
      "text/plain": [
       "False"
      ]
     },
     "execution_count": 81,
     "metadata": {},
     "output_type": "execute_result"
    }
   ],
   "source": [
    "key in set(balanced)"
   ]
  },
  {
   "cell_type": "code",
   "execution_count": 76,
   "metadata": {},
   "outputs": [
    {
     "data": {
      "text/plain": [
       "(147, 3)"
      ]
     },
     "execution_count": 76,
     "metadata": {},
     "output_type": "execute_result"
    }
   ],
   "source": [
    "particles[balanced_leaves == -1].shape"
   ]
  },
  {
   "cell_type": "code",
   "execution_count": 80,
   "metadata": {},
   "outputs": [
    {
     "data": {
      "text/plain": [
       "False"
      ]
     },
     "execution_count": 80,
     "metadata": {},
     "output_type": "execute_result"
    }
   ],
   "source": [
    "key in set(unbalanced)"
   ]
  },
  {
   "cell_type": "code",
   "execution_count": null,
   "metadata": {},
   "outputs": [],
   "source": []
  },
  {
   "cell_type": "code",
   "execution_count": 35,
   "metadata": {
    "scrolled": false
   },
   "outputs": [
    {
     "data": {
      "text/plain": [
       "(380,)"
      ]
     },
     "execution_count": 35,
     "metadata": {},
     "output_type": "execute_result"
    }
   ],
   "source": [
    "balanced.shape"
   ]
  },
  {
   "cell_type": "code",
   "execution_count": 100,
   "metadata": {},
   "outputs": [],
   "source": [
    "# Test num particles constraint\n",
    "_, counts = np.unique(balanced_leaves, return_counts=True)"
   ]
  },
  {
   "cell_type": "code",
   "execution_count": 101,
   "metadata": {},
   "outputs": [
    {
     "ename": "AssertionError",
     "evalue": "",
     "output_type": "error",
     "traceback": [
      "\u001b[0;31m---------------------------------------------------------------------------\u001b[0m",
      "\u001b[0;31mAssertionError\u001b[0m                            Traceback (most recent call last)",
      "\u001b[0;32m<ipython-input-101-0d5ece3b6a3c>\u001b[0m in \u001b[0;36m<module>\u001b[0;34m\u001b[0m\n\u001b[0;32m----> 1\u001b[0;31m \u001b[0;32massert\u001b[0m \u001b[0mnp\u001b[0m\u001b[0;34m.\u001b[0m\u001b[0mall\u001b[0m\u001b[0;34m(\u001b[0m\u001b[0mcounts\u001b[0m \u001b[0;34m<=\u001b[0m \u001b[0mmax_num_particles\u001b[0m\u001b[0;34m)\u001b[0m\u001b[0;34m\u001b[0m\u001b[0;34m\u001b[0m\u001b[0m\n\u001b[0m",
      "\u001b[0;31mAssertionError\u001b[0m: "
     ]
    }
   ],
   "source": [
    "assert np.all(counts <= max_num_particles)"
   ]
  },
  {
   "cell_type": "code",
   "execution_count": 12,
   "metadata": {},
   "outputs": [
    {
     "data": {
      "text/plain": [
       "array([ True])"
      ]
     },
     "execution_count": 12,
     "metadata": {},
     "output_type": "execute_result"
    }
   ],
   "source": [
    "counts < max_num_particles"
   ]
  },
  {
   "cell_type": "code",
   "execution_count": 97,
   "metadata": {
    "scrolled": false
   },
   "outputs": [],
   "source": [
    "# Check for balancing condition\n",
    "\n",
    "for i in balanced:\n",
    "    for j in balanced:\n",
    "        if (i != j) and morton.are_neighbours(i, j, x0, r0):\n",
    "            diff = morton.find_level(i) - morton.find_level(j)\n",
    "            assert diff <= 1"
   ]
  },
  {
   "cell_type": "code",
   "execution_count": 99,
   "metadata": {
    "scrolled": true
   },
   "outputs": [],
   "source": [
    "# Check for overlaps\n",
    "\n",
    "for i, ki in enumerate(balanced):\n",
    "    for j, kj in enumerate(balanced):\n",
    "        if j != i:\n",
    "            assert ki not in morton.find_ancestors(kj)            "
   ]
  },
  {
   "cell_type": "markdown",
   "metadata": {},
   "source": [
    "# Benchmarking"
   ]
  },
  {
   "cell_type": "code",
   "execution_count": null,
   "metadata": {},
   "outputs": [],
   "source": [
    "N = int(1e5)\n",
    "particles = plotting.make_moon(N)\n",
    "# particles = np.random.rand(N, 3)\n",
    "\n",
    "max_level = 16\n",
    "max_num_particles = 5\n",
    "\n",
    "\n",
    "max_bound, min_bound = morton.find_bounds(particles)\n",
    "x0 = morton.find_center(max_bound, min_bound)\n",
    "r0 = morton.find_radius(x0, max_bound, min_bound)\n",
    "\n",
    "unbalanced = tree.build(particles, max_level=max_level, max_points=5)\n",
    "unbalanced, counts = np.unique(unbalanced, return_counts=True)\n",
    "\n",
    "len(unbalanced)"
   ]
  },
  {
   "cell_type": "code",
   "execution_count": null,
   "metadata": {
    "scrolled": false
   },
   "outputs": [],
   "source": [
    "unbalanced"
   ]
  },
  {
   "cell_type": "code",
   "execution_count": null,
   "metadata": {},
   "outputs": [],
   "source": [
    "%timeit tree.build(particles, max_level, max_num_particles)"
   ]
  },
  {
   "cell_type": "code",
   "execution_count": null,
   "metadata": {
    "scrolled": true
   },
   "outputs": [],
   "source": [
    "%timeit tree.balance(unbalanced, depth)"
   ]
  },
  {
   "cell_type": "code",
   "execution_count": null,
   "metadata": {},
   "outputs": [],
   "source": [
    "tst = tree.balance(unbalanced, depth)"
   ]
  },
  {
   "cell_type": "code",
   "execution_count": null,
   "metadata": {},
   "outputs": [],
   "source": [
    "tst == set(unbalanced)"
   ]
  },
  {
   "cell_type": "code",
   "execution_count": null,
   "metadata": {},
   "outputs": [],
   "source": [
    "import numba as nb\n",
    "\n",
    "reflected_int_set = nb.types.Set(nb.int64, reflected=False)\n",
    "\n",
    "@nb.njit(reflected_int_set(reflected_int_set, reflected_int_set))\n",
    "def f(set_1, set_2):\n",
    "    return set_1\n"
   ]
  },
  {
   "cell_type": "code",
   "execution_count": null,
   "metadata": {},
   "outputs": [],
   "source": []
  }
 ],
 "metadata": {
  "kernelspec": {
   "display_name": "Python 3",
   "language": "python",
   "name": "python3"
  },
  "language_info": {
   "codemirror_mode": {
    "name": "ipython",
    "version": 3
   },
   "file_extension": ".py",
   "mimetype": "text/x-python",
   "name": "python",
   "nbconvert_exporter": "python",
   "pygments_lexer": "ipython3",
   "version": "3.8.5"
  }
 },
 "nbformat": 4,
 "nbformat_minor": 4
}
