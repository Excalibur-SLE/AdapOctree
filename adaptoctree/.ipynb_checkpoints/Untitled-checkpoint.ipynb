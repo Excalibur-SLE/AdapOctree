{
 "cells": [
  {
   "cell_type": "code",
   "execution_count": 1,
   "metadata": {},
   "outputs": [],
   "source": [
    "import numpy as np\n",
    "\n",
    "import adaptoctree.morton as morton\n",
    "import adaptoctree.tree as tree\n",
    "import adaptoctree.plotting as plotting"
   ]
  },
  {
   "cell_type": "code",
   "execution_count": 2,
   "metadata": {},
   "outputs": [],
   "source": [
    "N = int(1000)\n",
    "particles = plotting.make_moon(N)\n",
    "particles = np.random.rand(N, 3)\n",
    "\n",
    "max_level = 16\n",
    "max_num_particles = 100\n",
    "\n",
    "\n",
    "max_bound, min_bound = morton.find_bounds(particles)\n",
    "x0 = morton.find_center(max_bound, min_bound)\n",
    "r0 = morton.find_radius(x0, max_bound, min_bound)"
   ]
  },
  {
   "cell_type": "code",
   "execution_count": 3,
   "metadata": {},
   "outputs": [
    {
     "data": {
      "text/plain": [
       "array([      2,   32770,   65538,   98306,  131074,  163842,  196610,\n",
       "        229378,  262146,  294914,  327682,  360450,  393218,  425986,\n",
       "        458754,  491522,  524290,  557058,  589826,  622594,  655362,\n",
       "        688130,  720898,  753666,  786434,  819202,  851970,  884738,\n",
       "        917506,  950274,  983042, 1015810, 1048578, 1081346, 1114114,\n",
       "       1146882, 1179650, 1212418, 1245186, 1277954, 1310722, 1343490,\n",
       "       1376258, 1409026, 1441794, 1474562, 1507330, 1540098, 1572866,\n",
       "       1605634, 1638402, 1671170, 1703938, 1736706, 1769474, 1802242,\n",
       "       1835010, 1867778, 1900546, 1933314, 1966082, 1998850, 2031618,\n",
       "       2064386])"
      ]
     },
     "execution_count": 3,
     "metadata": {},
     "output_type": "execute_result"
    }
   ],
   "source": [
    "unbalanced = tree.build(particles, max_level, max_num_particles)\n",
    "unbalanced = np.unique(unbalanced)\n",
    "depth = max(morton.find_level(unbalanced))\n",
    "unbalanced"
   ]
  },
  {
   "cell_type": "code",
   "execution_count": 4,
   "metadata": {},
   "outputs": [
    {
     "data": {
      "text/plain": [
       "array([      2,   32770,   65538,   98306,  131074,  163842,  196610,\n",
       "        229378,  262146,  294914,  327682,  360450,  393218,  425986,\n",
       "        458754,  491522,  524290,  557058,  589826,  622594,  655362,\n",
       "        688130,  720898,  753666,  786434,  819202,  851970,  884738,\n",
       "        917506,  950274,  983042, 1015810, 1048578, 1081346, 1114114,\n",
       "       1146882, 1179650, 1212418, 1245186, 1277954, 1310722, 1343490,\n",
       "       1376258, 1409026, 1441794, 1474562, 1507330, 1540098, 1572866,\n",
       "       1605634, 1638402, 1671170, 1703938, 1736706, 1769474, 1802242,\n",
       "       1835010, 1867778, 1900546, 1933314, 1966082, 1998850, 2031618,\n",
       "       2064386])"
      ]
     },
     "execution_count": 4,
     "metadata": {},
     "output_type": "execute_result"
    }
   ],
   "source": [
    "balanced = tree.balance(unbalanced, depth)\n",
    "balanced = np.array(balanced)\n",
    "balanced"
   ]
  },
  {
   "cell_type": "code",
   "execution_count": 5,
   "metadata": {},
   "outputs": [],
   "source": [
    "def assign_points_to_keys(points, tree, x0, r0):\n",
    "    \"\"\"\n",
    "    Assign particle positions to Morton keys in a given tree.\n",
    "    Parameters:\n",
    "    -----------\n",
    "    points : np.array(shape=(N, 3), dtype=np.float32)\n",
    "    tree : Octree\n",
    "    Returns:\n",
    "    --------\n",
    "    np.array(shape=(N,), dtype=np.int64)\n",
    "        Column vector specifying the Morton key of the node that each point is\n",
    "        associated with.\n",
    "    \"\"\"\n",
    "    # Map Morton key to bounds that they represent.\n",
    "    n_points = points.shape[0]\n",
    "    n_keys = len(tree)\n",
    "    leaves = np.zeros(n_points, dtype=np.int64)\n",
    "\n",
    "    # Loop over points, and assign to a node from the tree by examining the bounds\n",
    "    for i, point in enumerate(points):\n",
    "        for key in tree:\n",
    "            lower_bound, upper_bound = morton.find_node_bounds(key, x0, r0)\n",
    "            if (np.all(lower_bound <= point)) and (np.all(point < upper_bound )):\n",
    "                leaves[i] = key        \n",
    "\n",
    "    return leaves"
   ]
  },
  {
   "cell_type": "code",
   "execution_count": 6,
   "metadata": {},
   "outputs": [],
   "source": [
    "balanced_leaves = assign_points_to_keys(particles, balanced, x0, r0)"
   ]
  },
  {
   "cell_type": "code",
   "execution_count": 7,
   "metadata": {},
   "outputs": [],
   "source": [
    "_, counts = np.unique(balanced_leaves, return_counts=True)\n",
    "assert np.all(counts) < max_num_particles"
   ]
  },
  {
   "cell_type": "code",
   "execution_count": 8,
   "metadata": {},
   "outputs": [],
   "source": [
    "def are_neighbours(a, b, x0, r0):\n",
    "    \n",
    "    if a in morton.find_ancestors(b):\n",
    "        return False\n",
    "    if b in morton.find_ancestors(a):\n",
    "        return False\n",
    "    \n",
    "    level_a = morton.find_level(a)\n",
    "    radius_a = r0 / (1 << level_a)\n",
    "    \n",
    "    level_b = morton.find_level(b)\n",
    "    radius_b = r0 / (1 << level_b)\n",
    "    \n",
    "    centre_a = morton.find_center_from_key(a, x0, r0)\n",
    "    centre_b = morton.find_center_from_key(b, x0, r0)\n",
    "    \n",
    "    if np.linalg.norm(centre_a - centre_b) <= np.sqrt(3) * (radius_b + radius_a):\n",
    "        return True\n",
    "    return False"
   ]
  },
  {
   "cell_type": "code",
   "execution_count": 9,
   "metadata": {
    "scrolled": true
   },
   "outputs": [],
   "source": [
    "for i in balanced:\n",
    "    for j in balanced:\n",
    "        if (i != j) and are_neighbours(i, j, x0, r0):\n",
    "            diff = morton.find_level(i) - morton.find_level(j)\n",
    "            assert diff <= 1"
   ]
  },
  {
   "cell_type": "code",
   "execution_count": 10,
   "metadata": {},
   "outputs": [
    {
     "data": {
      "text/plain": [
       "array([      2,   32770,   65538,   98306,  131074,  163842,  196610,\n",
       "        229378,  262146,  294914,  327682,  360450,  393218,  425986,\n",
       "        458754,  491522,  524290,  557058,  589826,  622594,  655362,\n",
       "        688130,  720898,  753666,  786434,  819202,  851970,  884738,\n",
       "        917506,  950274,  983042, 1015810, 1048578, 1081346, 1114114,\n",
       "       1146882, 1179650, 1212418, 1245186, 1277954, 1310722, 1343490,\n",
       "       1376258, 1409026, 1441794, 1474562, 1507330, 1540098, 1572866,\n",
       "       1605634, 1638402, 1671170, 1703938, 1736706, 1769474, 1802242,\n",
       "       1835010, 1867778, 1900546, 1933314, 1966082, 1998850, 2031618,\n",
       "       2064386])"
      ]
     },
     "execution_count": 10,
     "metadata": {},
     "output_type": "execute_result"
    }
   ],
   "source": [
    "balanced"
   ]
  },
  {
   "cell_type": "code",
   "execution_count": 11,
   "metadata": {},
   "outputs": [
    {
     "data": {
      "text/plain": [
       "array([0, 0, 0, 1], dtype=int16)"
      ]
     },
     "execution_count": 11,
     "metadata": {},
     "output_type": "execute_result"
    }
   ],
   "source": [
    "morton.decode_key(1)"
   ]
  },
  {
   "cell_type": "code",
   "execution_count": 12,
   "metadata": {},
   "outputs": [
    {
     "data": {
      "text/plain": [
       "array([4, 2, 2, 3], dtype=int16)"
      ]
     },
     "execution_count": 12,
     "metadata": {},
     "output_type": "execute_result"
    }
   ],
   "source": [
    "morton.decode_key(3670019)"
   ]
  },
  {
   "cell_type": "code",
   "execution_count": 317,
   "metadata": {},
   "outputs": [],
   "source": [
    "balanced = [1, 32769, 65537, 98305, 131073, 163841, 196609, 229377, 262146, 294914, 327682, 360450, 393218, 425986, 458754, 491522, 786434, 819202, 851970, 884738, 917506, 950274, 983042, 1015810, 1048578, 1081346, 1114114, 1146882, 1179650, 1212418, 1245186, 1277954, 3670019, 3702787, 3735555, 3768323, 3801091, 3833859, 3866627, 3899395, 7340035, 7372803, 7405571, 7438339, 7471107, 7503875, 7536643, 7569411, 8912899, 8945667, 8978435, 9011203, 9043971, 9076739, 9109507, 9142275, 12582915, 12615683, 12648451, 12681219, 12713987, 12746755, 12779523, 12812291, 12845059, 12877827, 12910595, 12943363, 12976131, 13008899, 13041667, 13074435]\n",
    "before = np.array(balanced)"
   ]
  },
  {
   "cell_type": "code",
   "execution_count": 21,
   "metadata": {
    "collapsed": true
   },
   "outputs": [
    {
     "name": "stdout",
     "output_type": "stream",
     "text": [
      "32769 262146\n",
      "65537\n",
      "1 8\n",
      "\n",
      "32769 294914\n",
      "65537\n",
      "1 9\n",
      "\n",
      "32769 327682\n",
      "65537\n",
      "1 10\n",
      "\n",
      "32769 360450\n",
      "65537\n",
      "1 11\n",
      "\n",
      "32769 393218\n",
      "65537\n",
      "1 12\n",
      "\n",
      "32769 425986\n",
      "65537\n",
      "1 13\n",
      "\n",
      "32769 458754\n",
      "65537\n",
      "1 14\n",
      "\n",
      "32769 491522\n",
      "65537\n",
      "1 15\n",
      "\n",
      "32769 3670019\n",
      "65537\n",
      "1 32\n",
      "\n",
      "32769 3702787\n",
      "65537\n",
      "1 33\n",
      "\n",
      "32769 3735555\n",
      "65537\n",
      "1 34\n",
      "\n",
      "32769 3768323\n",
      "65537\n",
      "1 35\n",
      "\n",
      "32769 3801091\n",
      "65537\n",
      "1 36\n",
      "\n",
      "32769 3833859\n",
      "65537\n",
      "1 37\n",
      "\n",
      "32769 3866627\n",
      "65537\n",
      "1 38\n",
      "\n",
      "32769 3899395\n",
      "65537\n",
      "1 39\n",
      "\n",
      "98305 786434\n",
      "131073\n",
      "3 16\n",
      "\n",
      "98305 819202\n",
      "131073\n",
      "3 17\n",
      "\n",
      "98305 851970\n",
      "131073\n",
      "3 18\n",
      "\n",
      "98305 884738\n",
      "131073\n",
      "3 19\n",
      "\n",
      "98305 917506\n",
      "131073\n",
      "3 20\n",
      "\n",
      "98305 950274\n",
      "131073\n",
      "3 21\n",
      "\n",
      "98305 983042\n",
      "131073\n",
      "3 22\n",
      "\n",
      "98305 1015810\n",
      "131073\n",
      "3 23\n",
      "\n",
      "98305 7340035\n",
      "131073\n",
      "3 40\n",
      "\n",
      "98305 7372803\n",
      "131073\n",
      "3 41\n",
      "\n",
      "98305 7405571\n",
      "131073\n",
      "3 42\n",
      "\n",
      "98305 7438339\n",
      "131073\n",
      "3 43\n",
      "\n",
      "98305 7471107\n",
      "131073\n",
      "3 44\n",
      "\n",
      "98305 7503875\n",
      "131073\n",
      "3 45\n",
      "\n",
      "98305 7536643\n",
      "131073\n",
      "3 46\n",
      "\n",
      "98305 7569411\n",
      "131073\n",
      "3 47\n",
      "\n",
      "131073 1048578\n",
      "163841\n",
      "4 24\n",
      "\n",
      "131073 1081346\n",
      "163841\n",
      "4 25\n",
      "\n",
      "131073 1114114\n",
      "163841\n",
      "4 26\n",
      "\n",
      "131073 1146882\n",
      "163841\n",
      "4 27\n",
      "\n",
      "131073 1179650\n",
      "163841\n",
      "4 28\n",
      "\n",
      "131073 1212418\n",
      "163841\n",
      "4 29\n",
      "\n",
      "131073 1245186\n",
      "163841\n",
      "4 30\n",
      "\n",
      "131073 1277954\n",
      "163841\n",
      "4 31\n",
      "\n",
      "131073 8912899\n",
      "163841\n",
      "4 48\n",
      "\n",
      "131073 8945667\n",
      "163841\n",
      "4 49\n",
      "\n",
      "131073 8978435\n",
      "163841\n",
      "4 50\n",
      "\n",
      "131073 9011203\n",
      "163841\n",
      "4 51\n",
      "\n",
      "131073 9043971\n",
      "163841\n",
      "4 52\n",
      "\n",
      "131073 9076739\n",
      "163841\n",
      "4 53\n",
      "\n",
      "131073 9109507\n",
      "163841\n",
      "4 54\n",
      "\n",
      "131073 9142275\n",
      "163841\n",
      "4 55\n",
      "\n",
      "196609 12582915\n",
      "229377\n",
      "6 56\n",
      "\n",
      "196609 12615683\n",
      "229377\n",
      "6 57\n",
      "\n",
      "196609 12648451\n",
      "229377\n",
      "6 58\n",
      "\n",
      "196609 12681219\n",
      "229377\n",
      "6 59\n",
      "\n",
      "196609 12713987\n",
      "229377\n",
      "6 60\n",
      "\n",
      "196609 12746755\n",
      "229377\n",
      "6 61\n",
      "\n",
      "196609 12779523\n",
      "229377\n",
      "6 62\n",
      "\n",
      "196609 12812291\n",
      "229377\n",
      "6 63\n",
      "\n",
      "196609 12845059\n",
      "229377\n",
      "6 64\n",
      "\n",
      "196609 12877827\n",
      "229377\n",
      "6 65\n",
      "\n",
      "196609 12910595\n",
      "229377\n",
      "6 66\n",
      "\n",
      "196609 12943363\n",
      "229377\n",
      "6 67\n",
      "\n",
      "196609 12976131\n",
      "229377\n",
      "6 68\n",
      "\n",
      "196609 13008899\n",
      "229377\n",
      "6 69\n",
      "\n",
      "196609 13041667\n",
      "229377\n",
      "6 70\n",
      "\n",
      "196609 13074435\n",
      "229377\n",
      "6 71\n",
      "\n",
      "458754 3670019\n",
      "491522\n",
      "14 32\n",
      "\n",
      "458754 3702787\n",
      "491522\n",
      "14 33\n",
      "\n",
      "458754 3735555\n",
      "491522\n",
      "14 34\n",
      "\n",
      "458754 3768323\n",
      "491522\n",
      "14 35\n",
      "\n",
      "458754 3801091\n",
      "491522\n",
      "14 36\n",
      "\n",
      "458754 3833859\n",
      "491522\n",
      "14 37\n",
      "\n",
      "458754 3866627\n",
      "491522\n",
      "14 38\n",
      "\n",
      "458754 3899395\n",
      "491522\n",
      "14 39\n",
      "\n",
      "917506 7340035\n",
      "950274\n",
      "20 40\n",
      "\n",
      "917506 7372803\n",
      "950274\n",
      "20 41\n",
      "\n",
      "917506 7405571\n",
      "950274\n",
      "20 42\n",
      "\n",
      "917506 7438339\n",
      "950274\n",
      "20 43\n",
      "\n",
      "917506 7471107\n",
      "950274\n",
      "20 44\n",
      "\n",
      "917506 7503875\n",
      "950274\n",
      "20 45\n",
      "\n",
      "917506 7536643\n",
      "950274\n",
      "20 46\n",
      "\n",
      "917506 7569411\n",
      "950274\n",
      "20 47\n",
      "\n",
      "1114114 8912899\n",
      "1146882\n",
      "26 48\n",
      "\n",
      "1114114 8945667\n",
      "1146882\n",
      "26 49\n",
      "\n",
      "1114114 8978435\n",
      "1146882\n",
      "26 50\n",
      "\n",
      "1114114 9011203\n",
      "1146882\n",
      "26 51\n",
      "\n",
      "1114114 9043971\n",
      "1146882\n",
      "26 52\n",
      "\n",
      "1114114 9076739\n",
      "1146882\n",
      "26 53\n",
      "\n",
      "1114114 9109507\n",
      "1146882\n",
      "26 54\n",
      "\n",
      "1114114 9142275\n",
      "1146882\n",
      "26 55\n",
      "\n"
     ]
    }
   ],
   "source": [
    "for i, ki in enumerate(after):\n",
    "    for j, kj in enumerate(after[i+1:]):\n",
    "        \n",
    "        if ki in morton.find_ancestors(kj):\n",
    "            print(ki, kj)\n",
    "            print(after[i+1])\n",
    "            print(i, i+1+j)\n",
    "            print()"
   ]
  },
  {
   "cell_type": "code",
   "execution_count": 319,
   "metadata": {},
   "outputs": [],
   "source": [
    "balanced = np.array(balanced)"
   ]
  },
  {
   "cell_type": "code",
   "execution_count": 321,
   "metadata": {},
   "outputs": [
    {
     "data": {
      "text/plain": [
       "array([       1,    32769,    65537,    98305,   131073,   163841,\n",
       "         196609,   229377,   262146,   294914,   327682,   360450,\n",
       "         393218,   425986,   458754,   491522,   786434,   819202,\n",
       "         851970,   884738,   917506,   950274,   983042,  1015810,\n",
       "        1048578,  1081346,  1114114,  1146882,  1179650,  1212418,\n",
       "        1245186,  1277954,  3670019,  3702787,  3735555,  3768323,\n",
       "        3801091,  3833859,  3866627,  3899395,  7340035,  7372803,\n",
       "        7405571,  7438339,  7471107,  7503875,  7536643,  7569411,\n",
       "        8912899,  8945667,  8978435,  9011203,  9043971,  9076739,\n",
       "        9109507,  9142275, 12582915, 12615683, 12648451, 12681219,\n",
       "       12713987, 12746755, 12779523, 12812291, 12845059, 12877827,\n",
       "       12910595, 12943363, 12976131, 13008899, 13041667, 13074435])"
      ]
     },
     "execution_count": 321,
     "metadata": {},
     "output_type": "execute_result"
    }
   ],
   "source": [
    "balanced"
   ]
  },
  {
   "cell_type": "code",
   "execution_count": 350,
   "metadata": {},
   "outputs": [],
   "source": [
    "def bfs(root, tree, depth):\n",
    "    \n",
    "    queue = [root]\n",
    "    \n",
    "    overlaps = set()\n",
    "    \n",
    "    while queue:\n",
    "        for node in queue:\n",
    "            level = morton.find_level(root)\n",
    "            new_queue = []\n",
    "            for l in range(1, depth-level + 1):\n",
    "                \n",
    "                descs = set(morton.find_descendents(node, l))\n",
    "                \n",
    "                ints = descs.intersection(tree)\n",
    "                overlaps.update(ints)\n",
    "                new_queue.extend(list(ints))\n",
    "        \n",
    "        queue = new_queue\n",
    "\n",
    "    return overlaps\n",
    "\n",
    "\n",
    "def remove_overlaps(balanced, depth):\n",
    "    depth = max(morton.find_level(np.array(balanced)))\n",
    "\n",
    "    unique = set(balanced)\n",
    "\n",
    "    for node in balanced:\n",
    "        if bfs(node, unique, depth):\n",
    "            unique.remove(node)\n",
    "            \n",
    "    return unique"
   ]
  },
  {
   "cell_type": "code",
   "execution_count": 351,
   "metadata": {},
   "outputs": [],
   "source": [
    "init_overlaps = set()\n",
    "depth = max(morton.find_level(np.array(balanced)))\n",
    "init_tree = set(balanced)\n",
    "root = 3866627"
   ]
  },
  {
   "cell_type": "code",
   "execution_count": 352,
   "metadata": {},
   "outputs": [
    {
     "data": {
      "text/plain": [
       "array([3670019, 3702787, 3735555, 3768323, 3801091, 3833859, 3866627,\n",
       "       3899395])"
      ]
     },
     "execution_count": 352,
     "metadata": {},
     "output_type": "execute_result"
    }
   ],
   "source": [
    "morton.find_descendents(458754, 1)"
   ]
  },
  {
   "cell_type": "code",
   "execution_count": 353,
   "metadata": {},
   "outputs": [
    {
     "name": "stdout",
     "output_type": "stream",
     "text": [
      "{3735555, 3801091, 3702787, 3670019, 3768323, 3833859, 3866627, 3899395} here\n"
     ]
    }
   ],
   "source": [
    "depth = max(morton.find_level(np.array(balanced)))\n",
    "\n",
    "unique = set(balanced)\n",
    "\n",
    "for node in balanced:\n",
    "    if bfs(node, unique, depth):\n",
    "        unique.remove(node)"
   ]
  },
  {
   "cell_type": "code",
   "execution_count": 354,
   "metadata": {},
   "outputs": [
    {
     "data": {
      "text/plain": [
       "(65,)"
      ]
     },
     "execution_count": 354,
     "metadata": {},
     "output_type": "execute_result"
    }
   ],
   "source": [
    "np.array(list(unique)).shape"
   ]
  },
  {
   "cell_type": "code",
   "execution_count": 355,
   "metadata": {},
   "outputs": [],
   "source": [
    "unique = np.array(list(unique))"
   ]
  },
  {
   "cell_type": "code",
   "execution_count": 356,
   "metadata": {},
   "outputs": [
    {
     "data": {
      "text/plain": [
       "{0, 32769, 458754, 3670019}"
      ]
     },
     "execution_count": 356,
     "metadata": {},
     "output_type": "execute_result"
    }
   ],
   "source": [
    "morton.find_ancestors(3670019)"
   ]
  },
  {
   "cell_type": "code",
   "execution_count": 361,
   "metadata": {
    "scrolled": true
   },
   "outputs": [],
   "source": [
    "for i, ki in enumerate(unique):\n",
    "    for j, kj in enumerate(unique[i+1:]):\n",
    "        assert ki not in morton.find_ancestors(kj)            "
   ]
  },
  {
   "cell_type": "code",
   "execution_count": 363,
   "metadata": {},
   "outputs": [
    {
     "data": {
      "text/plain": [
       "{0, 131073, 1245186}"
      ]
     },
     "execution_count": 363,
     "metadata": {},
     "output_type": "execute_result"
    }
   ],
   "source": [
    "morton.find_ancestors(1245186)"
   ]
  },
  {
   "cell_type": "code",
   "execution_count": 364,
   "metadata": {
    "scrolled": true
   },
   "outputs": [
    {
     "data": {
      "text/plain": [
       "[1,\n",
       " 65537,\n",
       " 163841,\n",
       " 229377,\n",
       " 262146,\n",
       " 294914,\n",
       " 327682,\n",
       " 360450,\n",
       " 393218,\n",
       " 425986,\n",
       " 491522,\n",
       " 786434,\n",
       " 819202,\n",
       " 851970,\n",
       " 884738,\n",
       " 950274,\n",
       " 983042,\n",
       " 1015810,\n",
       " 1048578,\n",
       " 1081346,\n",
       " 1146882,\n",
       " 1179650,\n",
       " 1212418,\n",
       " 1245186,\n",
       " 1277954,\n",
       " 3670019,\n",
       " 3702787,\n",
       " 3735555,\n",
       " 3768323,\n",
       " 3801091,\n",
       " 3833859,\n",
       " 3866627,\n",
       " 3899395,\n",
       " 7340035,\n",
       " 7372803,\n",
       " 7405571,\n",
       " 7438339,\n",
       " 7471107,\n",
       " 7503875,\n",
       " 7536643,\n",
       " 7569411,\n",
       " 8912899,\n",
       " 8945667,\n",
       " 8978435,\n",
       " 9011203,\n",
       " 9043971,\n",
       " 9076739,\n",
       " 9109507,\n",
       " 9142275,\n",
       " 12582915,\n",
       " 12615683,\n",
       " 12648451,\n",
       " 12681219,\n",
       " 12713987,\n",
       " 12746755,\n",
       " 12779523,\n",
       " 12812291,\n",
       " 12845059,\n",
       " 12877827,\n",
       " 12910595,\n",
       " 12943363,\n",
       " 12976131,\n",
       " 13008899,\n",
       " 13041667,\n",
       " 13074435]"
      ]
     },
     "execution_count": 364,
     "metadata": {},
     "output_type": "execute_result"
    }
   ],
   "source": [
    "unique"
   ]
  },
  {
   "cell_type": "code",
   "execution_count": 251,
   "metadata": {},
   "outputs": [],
   "source": [
    "overlaps = bfs(root, init_tree, depth)"
   ]
  },
  {
   "cell_type": "code",
   "execution_count": 252,
   "metadata": {},
   "outputs": [
    {
     "data": {
      "text/plain": [
       "set()"
      ]
     },
     "execution_count": 252,
     "metadata": {},
     "output_type": "execute_result"
    }
   ],
   "source": [
    "overlaps"
   ]
  },
  {
   "cell_type": "code",
   "execution_count": 234,
   "metadata": {},
   "outputs": [
    {
     "data": {
      "text/plain": [
       "72"
      ]
     },
     "execution_count": 234,
     "metadata": {},
     "output_type": "execute_result"
    }
   ],
   "source": [
    "len(init_tree)"
   ]
  },
  {
   "cell_type": "code",
   "execution_count": 235,
   "metadata": {},
   "outputs": [
    {
     "data": {
      "text/plain": [
       "{0, 32769, 458754, 3866627}"
      ]
     },
     "execution_count": 235,
     "metadata": {},
     "output_type": "execute_result"
    }
   ],
   "source": [
    "morton.find_ancestors(3866627)"
   ]
  },
  {
   "cell_type": "code",
   "execution_count": null,
   "metadata": {},
   "outputs": [],
   "source": []
  },
  {
   "cell_type": "code",
   "execution_count": 226,
   "metadata": {},
   "outputs": [
    {
     "data": {
      "text/plain": [
       "True"
      ]
     },
     "execution_count": 226,
     "metadata": {},
     "output_type": "execute_result"
    }
   ],
   "source": [
    "32769 in init_tree"
   ]
  },
  {
   "cell_type": "code",
   "execution_count": 26,
   "metadata": {},
   "outputs": [
    {
     "ename": "SyntaxError",
     "evalue": "unexpected EOF while parsing (<ipython-input-26-e50142332854>, line 4)",
     "output_type": "error",
     "traceback": [
      "\u001b[0;36m  File \u001b[0;32m\"<ipython-input-26-e50142332854>\"\u001b[0;36m, line \u001b[0;32m4\u001b[0m\n\u001b[0;31m    \u001b[0m\n\u001b[0m    ^\u001b[0m\n\u001b[0;31mSyntaxError\u001b[0m\u001b[0;31m:\u001b[0m unexpected EOF while parsing\n"
     ]
    }
   ],
   "source": [
    "def remove_overlaps(tree):\n",
    "        \n",
    "    # Limit on min level\n",
    "    roots = [x for x in tree if morton.find_level(x) == 1]\n",
    "    \n",
    "    for root in root:\n",
    "        \n",
    "    \n",
    "    \n",
    "    "
   ]
  },
  {
   "cell_type": "code",
   "execution_count": null,
   "metadata": {},
   "outputs": [],
   "source": []
  }
 ],
 "metadata": {
  "kernelspec": {
   "display_name": "Python 3",
   "language": "python",
   "name": "python3"
  },
  "language_info": {
   "codemirror_mode": {
    "name": "ipython",
    "version": 3
   },
   "file_extension": ".py",
   "mimetype": "text/x-python",
   "name": "python",
   "nbconvert_exporter": "python",
   "pygments_lexer": "ipython3",
   "version": "3.8.5"
  }
 },
 "nbformat": 4,
 "nbformat_minor": 4
}
