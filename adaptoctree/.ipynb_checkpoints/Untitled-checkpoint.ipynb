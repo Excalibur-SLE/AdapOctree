{
 "cells": [
  {
   "cell_type": "code",
   "execution_count": 1,
   "metadata": {},
   "outputs": [],
   "source": [
    "import time\n",
    "\n",
    "import numpy as np\n",
    "\n",
    "from adaptoctree import morton\n"
   ]
  },
  {
   "cell_type": "code",
   "execution_count": 4,
   "metadata": {},
   "outputs": [
    {
     "name": "stdout",
     "output_type": "stream",
     "text": [
      "1000 loops, best of 5: 469 µs per loop\n",
      "[     1 131073  65537  32769 163841  98305 229377]\n"
     ]
    }
   ],
   "source": [
    "key = 196609\n",
    "neighbours = morton.find_neighbours(key)\n",
    "%timeit  neighbours = morton.find_neighbours(key)\n",
    "\n",
    "print(neighbours)"
   ]
  },
  {
   "cell_type": "code",
   "execution_count": 5,
   "metadata": {},
   "outputs": [
    {
     "name": "stdout",
     "output_type": "stream",
     "text": [
      "1000 loops, best of 5: 500 µs per loop\n",
      "[     1 131073  65537  32769 163841  98305 229377]\n"
     ]
    }
   ],
   "source": [
    "key = 196609\n",
    "neighbours = morton.find_neighbours(key)\n",
    "%timeit  neighbours = morton.find_neighbours(key)\n",
    "\n",
    "print(neighbours)"
   ]
  },
  {
   "cell_type": "code",
   "execution_count": 3,
   "metadata": {
    "scrolled": true
   },
   "outputs": [
    {
     "data": {
      "text/plain": [
       "array([0, 0, 0, 1], dtype=int16)"
      ]
     },
     "execution_count": 3,
     "metadata": {},
     "output_type": "execute_result"
    }
   ],
   "source": [
    "morton.decode_key_lookup(1)"
   ]
  },
  {
   "cell_type": "code",
   "execution_count": 8,
   "metadata": {},
   "outputs": [
    {
     "name": "stdout",
     "output_type": "stream",
     "text": [
      "The slowest run took 11.75 times longer than the fastest. This could mean that an intermediate result is being cached.\n",
      "1000000 loops, best of 5: 972 ns per loop\n",
      "[1 1 1 1 1 1 1]\n"
     ]
    }
   ],
   "source": [
    "key = 1\n",
    "level = morton.find_level(neighbours)\n",
    "%timeit  level = morton.find_level(neighbours)\n",
    "\n",
    "print(level)"
   ]
  },
  {
   "cell_type": "code",
   "execution_count": 13,
   "metadata": {},
   "outputs": [
    {
     "data": {
      "text/plain": [
       "array([1.00000e+00, 1.31073e+05, 6.55370e+04, 1.96609e+05, 3.27690e+04,\n",
       "       1.63841e+05, 9.83050e+04])"
      ]
     },
     "execution_count": 13,
     "metadata": {},
     "output_type": "execute_result"
    }
   ],
   "source": [
    "morton.find_neighbours(229377)"
   ]
  },
  {
   "cell_type": "code",
   "execution_count": 2,
   "metadata": {},
   "outputs": [
    {
     "name": "stdout",
     "output_type": "stream",
     "text": [
      "The slowest run took 6.94 times longer than the fastest. This could mean that an intermediate result is being cached.\n",
      "100000 loops, best of 5: 3.14 µs per loop\n",
      "[0 1 0 1]\n"
     ]
    }
   ],
   "source": [
    "key = 65537\n",
    "decoded = morton.decode_key(key)\n",
    "%timeit decoded = morton.decode_key(key)\n",
    "\n",
    "print(decoded)"
   ]
  },
  {
   "cell_type": "code",
   "execution_count": 3,
   "metadata": {
    "scrolled": true
   },
   "outputs": [
    {
     "name": "stdout",
     "output_type": "stream",
     "text": [
      "100000 loops, best of 5: 12.4 µs per loop\n",
      "[0 1 0 1]\n"
     ]
    }
   ],
   "source": [
    "key = 65537\n",
    "decoded = morton.decode_key_lookup(key)\n",
    "%timeit decoded = morton.decode_key_lookup(key)\n",
    "\n",
    "print(decoded)"
   ]
  },
  {
   "cell_type": "code",
   "execution_count": null,
   "metadata": {},
   "outputs": [],
   "source": []
  }
 ],
 "metadata": {
  "kernelspec": {
   "display_name": "Python 3",
   "language": "python",
   "name": "python3"
  },
  "language_info": {
   "codemirror_mode": {
    "name": "ipython",
    "version": 3
   },
   "file_extension": ".py",
   "mimetype": "text/x-python",
   "name": "python",
   "nbconvert_exporter": "python",
   "pygments_lexer": "ipython3",
   "version": "3.7.9"
  }
 },
 "nbformat": 4,
 "nbformat_minor": 4
}
