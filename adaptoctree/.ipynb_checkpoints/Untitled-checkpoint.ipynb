{
 "cells": [
  {
   "cell_type": "code",
   "execution_count": 1,
   "metadata": {},
   "outputs": [],
   "source": [
    "import time\n",
    "\n",
    "import numpy as np\n",
    "import numba\n",
    "\n",
    "from adaptoctree import morton\n",
    "from adaptoctree import tree\n"
   ]
  },
  {
   "cell_type": "code",
   "execution_count": 189,
   "metadata": {},
   "outputs": [],
   "source": [
    "anchor = np.array([0, 0, 0, 1])"
   ]
  },
  {
   "cell_type": "code",
   "execution_count": 190,
   "metadata": {},
   "outputs": [],
   "source": [
    "key = morton.encode_anchor(anchor)"
   ]
  },
  {
   "cell_type": "code",
   "execution_count": 191,
   "metadata": {},
   "outputs": [],
   "source": [
    "key = key >> 15"
   ]
  },
  {
   "cell_type": "code",
   "execution_count": 192,
   "metadata": {},
   "outputs": [
    {
     "data": {
      "text/plain": [
       "'0b0'"
      ]
     },
     "execution_count": 192,
     "metadata": {},
     "output_type": "execute_result"
    }
   ],
   "source": [
    "bin(key)"
   ]
  },
  {
   "cell_type": "code",
   "execution_count": 174,
   "metadata": {},
   "outputs": [],
   "source": [
    "import sys"
   ]
  },
  {
   "cell_type": "code",
   "execution_count": 175,
   "metadata": {},
   "outputs": [],
   "source": []
  },
  {
   "cell_type": "code",
   "execution_count": 176,
   "metadata": {},
   "outputs": [
    {
     "data": {
      "text/plain": [
       "6"
      ]
     },
     "execution_count": 176,
     "metadata": {},
     "output_type": "execute_result"
    }
   ],
   "source": [
    "yz_mask & key"
   ]
  },
  {
   "cell_type": "code",
   "execution_count": 218,
   "metadata": {},
   "outputs": [],
   "source": [
    "x_mask = 0b001001001001001001001001001001001001001001001001\n",
    "y_mask = 0b010010010010010010010010010010010010010010010010\n",
    "z_mask = 0b100100100100100100100100100100100100100100100100\n",
    "\n",
    "yz_mask= 0b110110110110110110110110110110110110110110110110\n",
    "xz_mask= 0b101101101101101101101101101101101101101101101101\n",
    "xy_mask= 0b011011011011011011011011011011011011011011011011\n",
    "\n",
    "level_mask = 0x7FFF\n",
    "\n",
    "\n",
    "@numba.njit\n",
    "def decrement_x(key):\n",
    "    return (((key & x_mask) - 1) & x_mask) | (key & yz_mask)\n",
    "\n",
    "@numba.njit\n",
    "def decrement_y(key):\n",
    "    return (((key & y_mask) - 1) & y_mask) | (key & xz_mask)\n",
    "        \n",
    "@numba.njit\n",
    "def decrement_z(key):\n",
    "    return (((key & z_mask) - 1) & z_mask) | (key & xy_mask)\n",
    "        \n",
    "@numba.njit\n",
    "def increment_x(key):\n",
    "    return (((key | yz_mask) + 1) & x_mask) | (key & yz_mask)\n",
    "\n",
    "@numba.njit\n",
    "def increment_y(key):\n",
    "    return (((key | xz_mask) + 1) & y_mask) | (key & xz_mask)\n",
    "\n",
    "@numba.njit\n",
    "def increment_z(key):\n",
    "    return (((key | xy_mask) + 1) & z_mask) | (key & xy_mask)\n",
    "\n",
    "\n",
    "\n",
    "@numba.njit\n",
    "def compute_neighbours(key):\n",
    "    \"\"\"\n",
    "    Compute neighbours at the same level\n",
    "    \"\"\"\n",
    "    level = key & 0x7fff\n",
    "    key = key >> 15\n",
    "\n",
    "    neighbours = np.array([\n",
    "        decrement_x(decrement_y(decrement_z(key))),\n",
    "        decrement_x(decrement_y(key)),\n",
    "        decrement_x(decrement_z(key)),\n",
    "        decrement_x(key),\n",
    "        decrement_x(increment_z(key)),\n",
    "        decrement_x(increment_y(decrement_z(key))),\n",
    "        decrement_x(increment_y(key)),\n",
    "        decrement_x(increment_y(increment_z(key))),\n",
    "        decrement_y(decrement_z(key)),\n",
    "        decrement_y(key),\n",
    "        decrement_y(increment_z(key)),\n",
    "        decrement_z(key),\n",
    "        increment_z(key),\n",
    "        increment_y(decrement_z(key)),\n",
    "        increment_y(key),\n",
    "        increment_y(increment_z(key)),\n",
    "        increment_x(decrement_y(decrement_z(key))),\n",
    "        increment_x(decrement_y(decrement_z(key))),\n",
    "        increment_x(decrement_y(key)),\n",
    "        increment_x(decrement_y(increment_z(key))),\n",
    "        increment_z(decrement_z(key)),\n",
    "        increment_x(key),\n",
    "        increment_x(increment_z(key)),\n",
    "        increment_x(increment_y(decrement_z(key))),\n",
    "        increment_x(increment_y(key)),\n",
    "        increment_x(increment_y(increment_z(key)))\n",
    "    ], np.int64)\n",
    "    \n",
    "    neighbours = (neighbours << 15) | level\n",
    "    \n",
    "    return neighbours"
   ]
  },
  {
   "cell_type": "code",
   "execution_count": 250,
   "metadata": {},
   "outputs": [],
   "source": []
  },
  {
   "cell_type": "code",
   "execution_count": 251,
   "metadata": {},
   "outputs": [
    {
     "data": {
      "text/plain": [
       "array([131073,  65537, 196609,  32769, 163841,  98305, 229377])"
      ]
     },
     "execution_count": 251,
     "metadata": {},
     "output_type": "execute_result"
    }
   ],
   "source": [
    "morton.find_neighbours(1)"
   ]
  },
  {
   "cell_type": "code",
   "execution_count": 253,
   "metadata": {},
   "outputs": [
    {
     "data": {
      "text/plain": [
       "array([9223372036854743041, 3952873730080604161, 6588122883467673601,\n",
       "       1317624576693534721, 1317624576693665793, 6588122883467739137,\n",
       "       1317624576693600257, 1317624576693731329, 7905747460161208321,\n",
       "       2635249153387069441, 2635249153387200513, 5270498306774138881,\n",
       "                    131073, 5270498306774204417,               65537,\n",
       "                    196609, 7905747460161241089, 7905747460161241089,\n",
       "       2635249153387102209, 2635249153387233281,                   1,\n",
       "                     32769,              163841, 5270498306774237185,\n",
       "                     98305,              229377])"
      ]
     },
     "execution_count": 253,
     "metadata": {},
     "output_type": "execute_result"
    }
   ],
   "source": [
    "compute_neighbours(1)"
   ]
  },
  {
   "cell_type": "code",
   "execution_count": 236,
   "metadata": {},
   "outputs": [],
   "source": [
    "a = np.array([1,1,1,1])"
   ]
  },
  {
   "cell_type": "code",
   "execution_count": 238,
   "metadata": {},
   "outputs": [
    {
     "data": {
      "text/plain": [
       "array([32768, 32768, 32768, 32768])"
      ]
     },
     "execution_count": 238,
     "metadata": {},
     "output_type": "execute_result"
    }
   ],
   "source": [
    "a << 15"
   ]
  },
  {
   "cell_type": "code",
   "execution_count": 258,
   "metadata": {
    "scrolled": true
   },
   "outputs": [
    {
     "name": "stdout",
     "output_type": "stream",
     "text": [
      "The slowest run took 10.82 times longer than the fastest. This could mean that an intermediate result is being cached.\n",
      "1000000 loops, best of 5: 1.84 µs per loop\n"
     ]
    }
   ],
   "source": [
    "%timeit morton.find_neighbours(1)"
   ]
  },
  {
   "cell_type": "code",
   "execution_count": 259,
   "metadata": {
    "scrolled": true
   },
   "outputs": [
    {
     "name": "stdout",
     "output_type": "stream",
     "text": [
      "The slowest run took 15.36 times longer than the fastest. This could mean that an intermediate result is being cached.\n",
      "1000000 loops, best of 5: 606 ns per loop\n"
     ]
    }
   ],
   "source": [
    "% timeit compute_neighbours(key)"
   ]
  },
  {
   "cell_type": "code",
   "execution_count": 193,
   "metadata": {},
   "outputs": [],
   "source": [
    "decremented = decrement_x(key)\n",
    "decremented = decremented << 15\n",
    "decremented |= anchor[-1]\n",
    "\n",
    "incremented = increment_x(key)\n",
    "incremented = incremented << 15\n",
    "incremented |= anchor[-1]"
   ]
  },
  {
   "cell_type": "code",
   "execution_count": 194,
   "metadata": {},
   "outputs": [
    {
     "data": {
      "text/plain": [
       "array([0, 0, 0, 1])"
      ]
     },
     "execution_count": 194,
     "metadata": {},
     "output_type": "execute_result"
    }
   ],
   "source": [
    "anchor"
   ]
  },
  {
   "cell_type": "code",
   "execution_count": 195,
   "metadata": {},
   "outputs": [],
   "source": [
    "tst = decrement_x(decrement_y(key))\n",
    "tst = tst << 15\n",
    "tst |= anchor[-1]"
   ]
  },
  {
   "cell_type": "code",
   "execution_count": 196,
   "metadata": {},
   "outputs": [
    {
     "data": {
      "text/plain": [
       "array([-1, -1,  0,  1], dtype=int16)"
      ]
     },
     "execution_count": 196,
     "metadata": {},
     "output_type": "execute_result"
    }
   ],
   "source": [
    "morton.decode_key(tst)"
   ]
  },
  {
   "cell_type": "code",
   "execution_count": 203,
   "metadata": {},
   "outputs": [
    {
     "data": {
      "text/plain": [
       "1"
      ]
     },
     "execution_count": 203,
     "metadata": {},
     "output_type": "execute_result"
    }
   ],
   "source": []
  },
  {
   "cell_type": "code",
   "execution_count": 201,
   "metadata": {},
   "outputs": [
    {
     "data": {
      "text/plain": [
       "'0b1001001001001001001001001001001001001001001001'"
      ]
     },
     "execution_count": 201,
     "metadata": {},
     "output_type": "execute_result"
    }
   ],
   "source": [
    "bin(decremented >> 15)"
   ]
  },
  {
   "cell_type": "code",
   "execution_count": 197,
   "metadata": {},
   "outputs": [
    {
     "data": {
      "text/plain": [
       "array([-1,  0,  0,  1], dtype=int16)"
      ]
     },
     "execution_count": 197,
     "metadata": {},
     "output_type": "execute_result"
    }
   ],
   "source": [
    "morton.decode_key(decremented)"
   ]
  },
  {
   "cell_type": "code",
   "execution_count": 198,
   "metadata": {},
   "outputs": [
    {
     "data": {
      "text/plain": [
       "array([1, 0, 0, 1], dtype=int16)"
      ]
     },
     "execution_count": 198,
     "metadata": {},
     "output_type": "execute_result"
    }
   ],
   "source": [
    "morton.decode_key(incremented)"
   ]
  },
  {
   "cell_type": "code",
   "execution_count": null,
   "metadata": {},
   "outputs": [],
   "source": []
  },
  {
   "cell_type": "code",
   "execution_count": 2,
   "metadata": {
    "scrolled": true
   },
   "outputs": [
    {
     "name": "stdout",
     "output_type": "stream",
     "text": [
      "The slowest run took 17.70 times longer than the fastest. This could mean that an intermediate result is being cached.\n",
      "1000000 loops, best of 5: 1.88 µs per loop\n",
      "[     1 131073  65537  32769 163841  98305 229377]\n"
     ]
    }
   ],
   "source": [
    "key = 196609\n",
    "neighbours = morton.find_neighbours(key)\n",
    "%timeit  neighbours = morton.find_neighbours(key)\n",
    "\n",
    "print(neighbours)"
   ]
  },
  {
   "cell_type": "code",
   "execution_count": 3,
   "metadata": {},
   "outputs": [
    {
     "name": "stdout",
     "output_type": "stream",
     "text": [
      "The slowest run took 5.06 times longer than the fastest. This could mean that an intermediate result is being cached.\n",
      "1000000 loops, best of 5: 1.9 µs per loop\n",
      "[     1 131073  65537  32769 163841  98305 229377]\n"
     ]
    }
   ],
   "source": [
    "key = 196609\n",
    "neighbours = morton.find_neighbours(key)\n",
    "%timeit  neighbours = morton.find_neighbours(key)\n",
    "\n",
    "print(neighbours)"
   ]
  },
  {
   "cell_type": "code",
   "execution_count": 3,
   "metadata": {},
   "outputs": [
    {
     "name": "stdout",
     "output_type": "stream",
     "text": [
      "The slowest run took 8.19 times longer than the fastest. This could mean that an intermediate result is being cached.\n",
      "1000000 loops, best of 5: 620 ns per loop\n",
      "[1 1 1 1 1 1 1]\n"
     ]
    }
   ],
   "source": [
    "key = 1\n",
    "level = morton.find_level(neighbours)\n",
    "%timeit  level = morton.find_level(neighbours)\n",
    "\n",
    "print(level)"
   ]
  },
  {
   "cell_type": "code",
   "execution_count": 13,
   "metadata": {},
   "outputs": [
    {
     "data": {
      "text/plain": [
       "array([1.00000e+00, 1.31073e+05, 6.55370e+04, 1.96609e+05, 3.27690e+04,\n",
       "       1.63841e+05, 9.83050e+04])"
      ]
     },
     "execution_count": 13,
     "metadata": {},
     "output_type": "execute_result"
    }
   ],
   "source": [
    "morton.find_neighbours(229377)"
   ]
  },
  {
   "cell_type": "code",
   "execution_count": 7,
   "metadata": {},
   "outputs": [
    {
     "name": "stdout",
     "output_type": "stream",
     "text": [
      "The slowest run took 13.31 times longer than the fastest. This could mean that an intermediate result is being cached.\n",
      "1000000 loops, best of 5: 436 ns per loop\n",
      "[0 1 0 1]\n"
     ]
    }
   ],
   "source": [
    "key = 65537\n",
    "decoded = morton.decode_key(key)\n",
    "%timeit decoded = morton.decode_key(key)\n",
    "\n",
    "print(decoded)"
   ]
  },
  {
   "cell_type": "code",
   "execution_count": 8,
   "metadata": {
    "scrolled": true
   },
   "outputs": [
    {
     "name": "stdout",
     "output_type": "stream",
     "text": [
      "The slowest run took 11.93 times longer than the fastest. This could mean that an intermediate result is being cached.\n",
      "1000000 loops, best of 5: 439 ns per loop\n",
      "[0 1 0 1]\n"
     ]
    }
   ],
   "source": [
    "key = 65537\n",
    "decoded = morton.decode_key_lookup(key)\n",
    "%timeit decoded = morton.decode_key_lookup(key)\n",
    "\n",
    "print(decoded)"
   ]
  },
  {
   "cell_type": "markdown",
   "metadata": {},
   "source": [
    "## Timing building and balancing"
   ]
  },
  {
   "cell_type": "code",
   "execution_count": 2,
   "metadata": {},
   "outputs": [],
   "source": [
    "def make_moon(npoints):\n",
    "\n",
    "    x = np.linspace(0, 2 * np.pi, npoints) + np.random.rand(npoints)\n",
    "    y = 0.5 * np.ones(npoints) + np.random.rand(npoints)\n",
    "    z = np.sin(x) + np.random.rand(npoints)\n",
    "\n",
    "    moon = np.array([x, y, z]).T\n",
    "    return moon"
   ]
  },
  {
   "cell_type": "code",
   "execution_count": 6,
   "metadata": {},
   "outputs": [],
   "source": [
    "n_particles = int(1e3)\n",
    "maximum_level = 20\n",
    "max_num_particles = 250\n",
    "# particles = np.random.rand(n_particles, 3)\n",
    "particles = make_moon(n_particles)"
   ]
  },
  {
   "cell_type": "code",
   "execution_count": 7,
   "metadata": {},
   "outputs": [],
   "source": [
    "# %timeit tree.build(particles, max_num_particles=max_num_particles, maximum_level=maximum_level)\n",
    "start = time.time()\n",
    "unbalanced = tree.build(particles, max_num_particles=max_num_particles, maximum_level=maximum_level)\n",
    "# %timeit tree.build(particles, max_num_particles=max_num_particles, maximum_level=maximum_level)"
   ]
  },
  {
   "cell_type": "code",
   "execution_count": 8,
   "metadata": {},
   "outputs": [
    {
     "ename": "TypingError",
     "evalue": "Failed in nopython mode pipeline (step: nopython frontend)\nUse of unsupported NumPy function 'numpy.intersect1d' or unsupported use of the function.\n\nFile \"tree.py\", line 255:\ndef balance(unbalanced_tree, depth, max_level):\n    <source elided>\n\n                found, invalid_neighbours_idx, workset_idx = np.intersect1d(\n                ^\n\nDuring: typing of get attribute at /Users/sri/AdaptOctree/adaptoctree/tree.py (255)\n\nFile \"tree.py\", line 255:\ndef balance(unbalanced_tree, depth, max_level):\n    <source elided>\n\n                found, invalid_neighbours_idx, workset_idx = np.intersect1d(\n                ^\n",
     "output_type": "error",
     "traceback": [
      "\u001b[0;31m---------------------------------------------------------------------------\u001b[0m",
      "\u001b[0;31mTypingError\u001b[0m                               Traceback (most recent call last)",
      "\u001b[0;32m<ipython-input-8-dd817d622f8e>\u001b[0m in \u001b[0;36m<module>\u001b[0;34m()\u001b[0m\n\u001b[1;32m      1\u001b[0m \u001b[0munbalanced\u001b[0m \u001b[0;34m=\u001b[0m \u001b[0mnp\u001b[0m\u001b[0;34m.\u001b[0m\u001b[0munique\u001b[0m\u001b[0;34m(\u001b[0m\u001b[0munbalanced\u001b[0m\u001b[0;34m)\u001b[0m\u001b[0;34m\u001b[0m\u001b[0;34m\u001b[0m\u001b[0m\n\u001b[1;32m      2\u001b[0m \u001b[0mdepth\u001b[0m \u001b[0;34m=\u001b[0m \u001b[0mmax\u001b[0m\u001b[0;34m(\u001b[0m\u001b[0mmorton\u001b[0m\u001b[0;34m.\u001b[0m\u001b[0mfind_level\u001b[0m\u001b[0;34m(\u001b[0m\u001b[0munbalanced\u001b[0m\u001b[0;34m)\u001b[0m\u001b[0;34m)\u001b[0m\u001b[0;34m\u001b[0m\u001b[0;34m\u001b[0m\u001b[0m\n\u001b[0;32m----> 3\u001b[0;31m \u001b[0mbalanced\u001b[0m \u001b[0;34m=\u001b[0m \u001b[0mtree\u001b[0m\u001b[0;34m.\u001b[0m\u001b[0mbalance\u001b[0m\u001b[0;34m(\u001b[0m\u001b[0munbalanced\u001b[0m\u001b[0;34m,\u001b[0m \u001b[0mdepth\u001b[0m\u001b[0;34m,\u001b[0m \u001b[0mmaximum_level\u001b[0m\u001b[0;34m)\u001b[0m\u001b[0;34m\u001b[0m\u001b[0;34m\u001b[0m\u001b[0m\n\u001b[0m",
      "\u001b[0;32m/Users/sri/opt/anaconda3/envs/adaptoctree/lib/python3.7/site-packages/numba/core/dispatcher.py\u001b[0m in \u001b[0;36m_compile_for_args\u001b[0;34m(self, *args, **kws)\u001b[0m\n\u001b[1;32m    413\u001b[0m                 \u001b[0me\u001b[0m\u001b[0;34m.\u001b[0m\u001b[0mpatch_message\u001b[0m\u001b[0;34m(\u001b[0m\u001b[0mmsg\u001b[0m\u001b[0;34m)\u001b[0m\u001b[0;34m\u001b[0m\u001b[0;34m\u001b[0m\u001b[0m\n\u001b[1;32m    414\u001b[0m \u001b[0;34m\u001b[0m\u001b[0m\n\u001b[0;32m--> 415\u001b[0;31m             \u001b[0merror_rewrite\u001b[0m\u001b[0;34m(\u001b[0m\u001b[0me\u001b[0m\u001b[0;34m,\u001b[0m \u001b[0;34m'typing'\u001b[0m\u001b[0;34m)\u001b[0m\u001b[0;34m\u001b[0m\u001b[0;34m\u001b[0m\u001b[0m\n\u001b[0m\u001b[1;32m    416\u001b[0m         \u001b[0;32mexcept\u001b[0m \u001b[0merrors\u001b[0m\u001b[0;34m.\u001b[0m\u001b[0mUnsupportedError\u001b[0m \u001b[0;32mas\u001b[0m \u001b[0me\u001b[0m\u001b[0;34m:\u001b[0m\u001b[0;34m\u001b[0m\u001b[0;34m\u001b[0m\u001b[0m\n\u001b[1;32m    417\u001b[0m             \u001b[0;31m# Something unsupported is present in the user code, add help info\u001b[0m\u001b[0;34m\u001b[0m\u001b[0;34m\u001b[0m\u001b[0;34m\u001b[0m\u001b[0m\n",
      "\u001b[0;32m/Users/sri/opt/anaconda3/envs/adaptoctree/lib/python3.7/site-packages/numba/core/dispatcher.py\u001b[0m in \u001b[0;36merror_rewrite\u001b[0;34m(e, issue_type)\u001b[0m\n\u001b[1;32m    356\u001b[0m                 \u001b[0;32mraise\u001b[0m \u001b[0me\u001b[0m\u001b[0;34m\u001b[0m\u001b[0;34m\u001b[0m\u001b[0m\n\u001b[1;32m    357\u001b[0m             \u001b[0;32melse\u001b[0m\u001b[0;34m:\u001b[0m\u001b[0;34m\u001b[0m\u001b[0;34m\u001b[0m\u001b[0m\n\u001b[0;32m--> 358\u001b[0;31m                 \u001b[0mreraise\u001b[0m\u001b[0;34m(\u001b[0m\u001b[0mtype\u001b[0m\u001b[0;34m(\u001b[0m\u001b[0me\u001b[0m\u001b[0;34m)\u001b[0m\u001b[0;34m,\u001b[0m \u001b[0me\u001b[0m\u001b[0;34m,\u001b[0m \u001b[0;32mNone\u001b[0m\u001b[0;34m)\u001b[0m\u001b[0;34m\u001b[0m\u001b[0;34m\u001b[0m\u001b[0m\n\u001b[0m\u001b[1;32m    359\u001b[0m \u001b[0;34m\u001b[0m\u001b[0m\n\u001b[1;32m    360\u001b[0m         \u001b[0margtypes\u001b[0m \u001b[0;34m=\u001b[0m \u001b[0;34m[\u001b[0m\u001b[0;34m]\u001b[0m\u001b[0;34m\u001b[0m\u001b[0;34m\u001b[0m\u001b[0m\n",
      "\u001b[0;32m/Users/sri/opt/anaconda3/envs/adaptoctree/lib/python3.7/site-packages/numba/core/utils.py\u001b[0m in \u001b[0;36mreraise\u001b[0;34m(tp, value, tb)\u001b[0m\n\u001b[1;32m     78\u001b[0m         \u001b[0mvalue\u001b[0m \u001b[0;34m=\u001b[0m \u001b[0mtp\u001b[0m\u001b[0;34m(\u001b[0m\u001b[0;34m)\u001b[0m\u001b[0;34m\u001b[0m\u001b[0;34m\u001b[0m\u001b[0m\n\u001b[1;32m     79\u001b[0m     \u001b[0;32mif\u001b[0m \u001b[0mvalue\u001b[0m\u001b[0;34m.\u001b[0m\u001b[0m__traceback__\u001b[0m \u001b[0;32mis\u001b[0m \u001b[0;32mnot\u001b[0m \u001b[0mtb\u001b[0m\u001b[0;34m:\u001b[0m\u001b[0;34m\u001b[0m\u001b[0;34m\u001b[0m\u001b[0m\n\u001b[0;32m---> 80\u001b[0;31m         \u001b[0;32mraise\u001b[0m \u001b[0mvalue\u001b[0m\u001b[0;34m.\u001b[0m\u001b[0mwith_traceback\u001b[0m\u001b[0;34m(\u001b[0m\u001b[0mtb\u001b[0m\u001b[0;34m)\u001b[0m\u001b[0;34m\u001b[0m\u001b[0;34m\u001b[0m\u001b[0m\n\u001b[0m\u001b[1;32m     81\u001b[0m     \u001b[0;32mraise\u001b[0m \u001b[0mvalue\u001b[0m\u001b[0;34m\u001b[0m\u001b[0;34m\u001b[0m\u001b[0m\n\u001b[1;32m     82\u001b[0m \u001b[0;34m\u001b[0m\u001b[0m\n",
      "\u001b[0;31mTypingError\u001b[0m: Failed in nopython mode pipeline (step: nopython frontend)\nUse of unsupported NumPy function 'numpy.intersect1d' or unsupported use of the function.\n\nFile \"tree.py\", line 255:\ndef balance(unbalanced_tree, depth, max_level):\n    <source elided>\n\n                found, invalid_neighbours_idx, workset_idx = np.intersect1d(\n                ^\n\nDuring: typing of get attribute at /Users/sri/AdaptOctree/adaptoctree/tree.py (255)\n\nFile \"tree.py\", line 255:\ndef balance(unbalanced_tree, depth, max_level):\n    <source elided>\n\n                found, invalid_neighbours_idx, workset_idx = np.intersect1d(\n                ^\n"
     ]
    }
   ],
   "source": [
    "unbalanced = np.unique(unbalanced)\n",
    "depth = max(morton.find_level(unbalanced))\n",
    "balanced = tree.balance(unbalanced, depth, maximum_level)"
   ]
  },
  {
   "cell_type": "code",
   "execution_count": null,
   "metadata": {},
   "outputs": [],
   "source": []
  },
  {
   "cell_type": "code",
   "execution_count": 272,
   "metadata": {},
   "outputs": [
    {
     "name": "stdout",
     "output_type": "stream",
     "text": [
      "1 loop, best of 5: 3.81 s per loop\n"
     ]
    }
   ],
   "source": [
    "unbalanced = np.unique(unbalanced)\n",
    "depth = max(morton.find_level(unbalanced))\n",
    "\n",
    "%timeit tree.balance(unbalanced, depth, maximum_level)\n",
    "balanced = tree.balance(unbalanced, depth, maximum_level)"
   ]
  },
  {
   "cell_type": "code",
   "execution_count": 9,
   "metadata": {},
   "outputs": [
    {
     "name": "stdout",
     "output_type": "stream",
     "text": [
      "1 loop, best of 5: 4.05 s per loop\n"
     ]
    }
   ],
   "source": [
    "unbalanced = np.unique(unbalanced)\n",
    "depth = max(morton.find_level(unbalanced))\n",
    "\n",
    "%timeit tree.balance(unbalanced, depth, maximum_level)\n",
    "balanced = tree.balance(unbalanced, depth, maximum_level)"
   ]
  },
  {
   "cell_type": "code",
   "execution_count": 7,
   "metadata": {},
   "outputs": [
    {
     "data": {
      "text/plain": [
       "(1506,)"
      ]
     },
     "execution_count": 7,
     "metadata": {},
     "output_type": "execute_result"
    }
   ],
   "source": [
    "balanced.shape"
   ]
  },
  {
   "cell_type": "code",
   "execution_count": 8,
   "metadata": {},
   "outputs": [
    {
     "data": {
      "text/plain": [
       "(775,)"
      ]
     },
     "execution_count": 8,
     "metadata": {},
     "output_type": "execute_result"
    }
   ],
   "source": [
    "unbalanced.shape"
   ]
  },
  {
   "cell_type": "code",
   "execution_count": 31,
   "metadata": {},
   "outputs": [],
   "source": [
    "@numba.jit\n",
    "def intersect1d(ar1, ar2):\n",
    "\n",
    "    ar1 = np.unique(ar1)\n",
    "    ar2 = np.unique(ar2)\n",
    "\n",
    "    aux = np.concatenate((ar1, ar2))\n",
    "    aux.sort()\n",
    "    mask = aux[1:] == aux[:-1]\n",
    "    int1d = aux[:-1][mask]\n",
    "\n",
    "    return int1d"
   ]
  },
  {
   "cell_type": "code",
   "execution_count": 36,
   "metadata": {},
   "outputs": [],
   "source": [
    "aux = np.concatenate((x, y))\n",
    "aux.sort()"
   ]
  },
  {
   "cell_type": "code",
   "execution_count": 40,
   "metadata": {},
   "outputs": [],
   "source": [
    "mask = aux[1:] == aux[:-1]"
   ]
  },
  {
   "cell_type": "code",
   "execution_count": 41,
   "metadata": {},
   "outputs": [
    {
     "data": {
      "text/plain": [
       "array([ True, False,  True, False, False, False,  True, False])"
      ]
     },
     "execution_count": 41,
     "metadata": {},
     "output_type": "execute_result"
    }
   ],
   "source": [
    "mask"
   ]
  },
  {
   "cell_type": "code",
   "execution_count": 33,
   "metadata": {
    "scrolled": false
   },
   "outputs": [
    {
     "data": {
      "text/plain": [
       "array([2, 5])"
      ]
     },
     "execution_count": 33,
     "metadata": {},
     "output_type": "execute_result"
    }
   ],
   "source": [
    "intersect1d(x, y)"
   ]
  },
  {
   "cell_type": "code",
   "execution_count": 16,
   "metadata": {},
   "outputs": [
    {
     "data": {
      "text/plain": [
       "{2, 5}"
      ]
     },
     "execution_count": 16,
     "metadata": {},
     "output_type": "execute_result"
    }
   ],
   "source": [
    "set(x).intersection(set(y))"
   ]
  },
  {
   "cell_type": "code",
   "execution_count": 63,
   "metadata": {},
   "outputs": [],
   "source": [
    "\n",
    "@numba.njit\n",
    "def f():\n",
    "    a = np.array([1])\n",
    "    b = np.array([-1])\n",
    "    if not b:\n",
    "        b = a\n",
    "    return np.hstack((b, a))"
   ]
  },
  {
   "cell_type": "code",
   "execution_count": 64,
   "metadata": {
    "scrolled": true
   },
   "outputs": [
    {
     "ename": "TypingError",
     "evalue": "Failed in nopython mode pipeline (step: nopython frontend)\nCannot unify array(float64, 1d, C) and array(int64, 1d, C) for 'b.2', defined at <ipython-input-63-352f3f745276> (8)\n\nFile \"<ipython-input-63-352f3f745276>\", line 8:\ndef f():\n    <source elided>\n        b = a\n    return np.hstack((b, a))\n    ^\n\nDuring: typing of assignment at <ipython-input-63-352f3f745276> (8)\n\nFile \"<ipython-input-63-352f3f745276>\", line 8:\ndef f():\n    <source elided>\n        b = a\n    return np.hstack((b, a))\n    ^\n",
     "output_type": "error",
     "traceback": [
      "\u001b[0;31m---------------------------------------------------------------------------\u001b[0m",
      "\u001b[0;31mTypingError\u001b[0m                               Traceback (most recent call last)",
      "\u001b[0;32m<ipython-input-64-c43e34e6d405>\u001b[0m in \u001b[0;36m<module>\u001b[0;34m()\u001b[0m\n\u001b[0;32m----> 1\u001b[0;31m \u001b[0mf\u001b[0m\u001b[0;34m(\u001b[0m\u001b[0;34m)\u001b[0m\u001b[0;34m\u001b[0m\u001b[0;34m\u001b[0m\u001b[0m\n\u001b[0m",
      "\u001b[0;32m/Users/sri/opt/anaconda3/envs/adaptoctree/lib/python3.7/site-packages/numba/core/dispatcher.py\u001b[0m in \u001b[0;36m_compile_for_args\u001b[0;34m(self, *args, **kws)\u001b[0m\n\u001b[1;32m    413\u001b[0m                 \u001b[0me\u001b[0m\u001b[0;34m.\u001b[0m\u001b[0mpatch_message\u001b[0m\u001b[0;34m(\u001b[0m\u001b[0mmsg\u001b[0m\u001b[0;34m)\u001b[0m\u001b[0;34m\u001b[0m\u001b[0;34m\u001b[0m\u001b[0m\n\u001b[1;32m    414\u001b[0m \u001b[0;34m\u001b[0m\u001b[0m\n\u001b[0;32m--> 415\u001b[0;31m             \u001b[0merror_rewrite\u001b[0m\u001b[0;34m(\u001b[0m\u001b[0me\u001b[0m\u001b[0;34m,\u001b[0m \u001b[0;34m'typing'\u001b[0m\u001b[0;34m)\u001b[0m\u001b[0;34m\u001b[0m\u001b[0;34m\u001b[0m\u001b[0m\n\u001b[0m\u001b[1;32m    416\u001b[0m         \u001b[0;32mexcept\u001b[0m \u001b[0merrors\u001b[0m\u001b[0;34m.\u001b[0m\u001b[0mUnsupportedError\u001b[0m \u001b[0;32mas\u001b[0m \u001b[0me\u001b[0m\u001b[0;34m:\u001b[0m\u001b[0;34m\u001b[0m\u001b[0;34m\u001b[0m\u001b[0m\n\u001b[1;32m    417\u001b[0m             \u001b[0;31m# Something unsupported is present in the user code, add help info\u001b[0m\u001b[0;34m\u001b[0m\u001b[0;34m\u001b[0m\u001b[0;34m\u001b[0m\u001b[0m\n",
      "\u001b[0;32m/Users/sri/opt/anaconda3/envs/adaptoctree/lib/python3.7/site-packages/numba/core/dispatcher.py\u001b[0m in \u001b[0;36merror_rewrite\u001b[0;34m(e, issue_type)\u001b[0m\n\u001b[1;32m    356\u001b[0m                 \u001b[0;32mraise\u001b[0m \u001b[0me\u001b[0m\u001b[0;34m\u001b[0m\u001b[0;34m\u001b[0m\u001b[0m\n\u001b[1;32m    357\u001b[0m             \u001b[0;32melse\u001b[0m\u001b[0;34m:\u001b[0m\u001b[0;34m\u001b[0m\u001b[0;34m\u001b[0m\u001b[0m\n\u001b[0;32m--> 358\u001b[0;31m                 \u001b[0mreraise\u001b[0m\u001b[0;34m(\u001b[0m\u001b[0mtype\u001b[0m\u001b[0;34m(\u001b[0m\u001b[0me\u001b[0m\u001b[0;34m)\u001b[0m\u001b[0;34m,\u001b[0m \u001b[0me\u001b[0m\u001b[0;34m,\u001b[0m \u001b[0;32mNone\u001b[0m\u001b[0;34m)\u001b[0m\u001b[0;34m\u001b[0m\u001b[0;34m\u001b[0m\u001b[0m\n\u001b[0m\u001b[1;32m    359\u001b[0m \u001b[0;34m\u001b[0m\u001b[0m\n\u001b[1;32m    360\u001b[0m         \u001b[0margtypes\u001b[0m \u001b[0;34m=\u001b[0m \u001b[0;34m[\u001b[0m\u001b[0;34m]\u001b[0m\u001b[0;34m\u001b[0m\u001b[0;34m\u001b[0m\u001b[0m\n",
      "\u001b[0;32m/Users/sri/opt/anaconda3/envs/adaptoctree/lib/python3.7/site-packages/numba/core/utils.py\u001b[0m in \u001b[0;36mreraise\u001b[0;34m(tp, value, tb)\u001b[0m\n\u001b[1;32m     78\u001b[0m         \u001b[0mvalue\u001b[0m \u001b[0;34m=\u001b[0m \u001b[0mtp\u001b[0m\u001b[0;34m(\u001b[0m\u001b[0;34m)\u001b[0m\u001b[0;34m\u001b[0m\u001b[0;34m\u001b[0m\u001b[0m\n\u001b[1;32m     79\u001b[0m     \u001b[0;32mif\u001b[0m \u001b[0mvalue\u001b[0m\u001b[0;34m.\u001b[0m\u001b[0m__traceback__\u001b[0m \u001b[0;32mis\u001b[0m \u001b[0;32mnot\u001b[0m \u001b[0mtb\u001b[0m\u001b[0;34m:\u001b[0m\u001b[0;34m\u001b[0m\u001b[0;34m\u001b[0m\u001b[0m\n\u001b[0;32m---> 80\u001b[0;31m         \u001b[0;32mraise\u001b[0m \u001b[0mvalue\u001b[0m\u001b[0;34m.\u001b[0m\u001b[0mwith_traceback\u001b[0m\u001b[0;34m(\u001b[0m\u001b[0mtb\u001b[0m\u001b[0;34m)\u001b[0m\u001b[0;34m\u001b[0m\u001b[0;34m\u001b[0m\u001b[0m\n\u001b[0m\u001b[1;32m     81\u001b[0m     \u001b[0;32mraise\u001b[0m \u001b[0mvalue\u001b[0m\u001b[0;34m\u001b[0m\u001b[0;34m\u001b[0m\u001b[0m\n\u001b[1;32m     82\u001b[0m \u001b[0;34m\u001b[0m\u001b[0m\n",
      "\u001b[0;31mTypingError\u001b[0m: Failed in nopython mode pipeline (step: nopython frontend)\nCannot unify array(float64, 1d, C) and array(int64, 1d, C) for 'b.2', defined at <ipython-input-63-352f3f745276> (8)\n\nFile \"<ipython-input-63-352f3f745276>\", line 8:\ndef f():\n    <source elided>\n        b = a\n    return np.hstack((b, a))\n    ^\n\nDuring: typing of assignment at <ipython-input-63-352f3f745276> (8)\n\nFile \"<ipython-input-63-352f3f745276>\", line 8:\ndef f():\n    <source elided>\n        b = a\n    return np.hstack((b, a))\n    ^\n"
     ]
    }
   ],
   "source": [
    "f()"
   ]
  },
  {
   "cell_type": "code",
   "execution_count": null,
   "metadata": {},
   "outputs": [],
   "source": []
  },
  {
   "cell_type": "code",
   "execution_count": null,
   "metadata": {},
   "outputs": [],
   "source": []
  }
 ],
 "metadata": {
  "kernelspec": {
   "display_name": "Python 3",
   "language": "python",
   "name": "python3"
  },
  "language_info": {
   "codemirror_mode": {
    "name": "ipython",
    "version": 3
   },
   "file_extension": ".py",
   "mimetype": "text/x-python",
   "name": "python",
   "nbconvert_exporter": "python",
   "pygments_lexer": "ipython3",
   "version": "3.7.9"
  }
 },
 "nbformat": 4,
 "nbformat_minor": 4
}
